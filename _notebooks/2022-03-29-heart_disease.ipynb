{
 "cells": [
  {
   "cell_type": "markdown",
   "metadata": {},
   "source": [
    "# Heart Disease\n",
    "> Sklearn and Kneighborclassifier.\n",
    "\n",
    "- toc: true \n",
    "- badges: true\n",
    "- comments: true\n",
    "- categories: [jupyter]\n",
    "- image: images/chart-preview.png"
   ]
  },
  {
   "cell_type": "code",
   "execution_count": 1,
   "metadata": {},
   "outputs": [
    {
     "data": {
      "text/html": [
       "<div>\n",
       "<style scoped>\n",
       "    .dataframe tbody tr th:only-of-type {\n",
       "        vertical-align: middle;\n",
       "    }\n",
       "\n",
       "    .dataframe tbody tr th {\n",
       "        vertical-align: top;\n",
       "    }\n",
       "\n",
       "    .dataframe thead th {\n",
       "        text-align: right;\n",
       "    }\n",
       "</style>\n",
       "<table border=\"1\" class=\"dataframe\">\n",
       "  <thead>\n",
       "    <tr style=\"text-align: right;\">\n",
       "      <th></th>\n",
       "      <th>HeartDiseaseorAttack</th>\n",
       "      <th>HighBP</th>\n",
       "      <th>HighChol</th>\n",
       "      <th>CholCheck</th>\n",
       "      <th>BMI</th>\n",
       "      <th>Smoker</th>\n",
       "      <th>Stroke</th>\n",
       "      <th>Diabetes</th>\n",
       "      <th>PhysActivity</th>\n",
       "      <th>Fruits</th>\n",
       "      <th>...</th>\n",
       "      <th>AnyHealthcare</th>\n",
       "      <th>NoDocbcCost</th>\n",
       "      <th>GenHlth</th>\n",
       "      <th>MentHlth</th>\n",
       "      <th>PhysHlth</th>\n",
       "      <th>DiffWalk</th>\n",
       "      <th>Sex</th>\n",
       "      <th>Age</th>\n",
       "      <th>Education</th>\n",
       "      <th>Income</th>\n",
       "    </tr>\n",
       "  </thead>\n",
       "  <tbody>\n",
       "    <tr>\n",
       "      <th>0</th>\n",
       "      <td>0.0</td>\n",
       "      <td>1.0</td>\n",
       "      <td>1.0</td>\n",
       "      <td>1.0</td>\n",
       "      <td>40.0</td>\n",
       "      <td>1.0</td>\n",
       "      <td>0.0</td>\n",
       "      <td>0.0</td>\n",
       "      <td>0.0</td>\n",
       "      <td>0.0</td>\n",
       "      <td>...</td>\n",
       "      <td>1.0</td>\n",
       "      <td>0.0</td>\n",
       "      <td>5.0</td>\n",
       "      <td>18.0</td>\n",
       "      <td>15.0</td>\n",
       "      <td>1.0</td>\n",
       "      <td>0.0</td>\n",
       "      <td>9.0</td>\n",
       "      <td>4.0</td>\n",
       "      <td>3.0</td>\n",
       "    </tr>\n",
       "    <tr>\n",
       "      <th>1</th>\n",
       "      <td>0.0</td>\n",
       "      <td>0.0</td>\n",
       "      <td>0.0</td>\n",
       "      <td>0.0</td>\n",
       "      <td>25.0</td>\n",
       "      <td>1.0</td>\n",
       "      <td>0.0</td>\n",
       "      <td>0.0</td>\n",
       "      <td>1.0</td>\n",
       "      <td>0.0</td>\n",
       "      <td>...</td>\n",
       "      <td>0.0</td>\n",
       "      <td>1.0</td>\n",
       "      <td>3.0</td>\n",
       "      <td>0.0</td>\n",
       "      <td>0.0</td>\n",
       "      <td>0.0</td>\n",
       "      <td>0.0</td>\n",
       "      <td>7.0</td>\n",
       "      <td>6.0</td>\n",
       "      <td>1.0</td>\n",
       "    </tr>\n",
       "    <tr>\n",
       "      <th>2</th>\n",
       "      <td>0.0</td>\n",
       "      <td>1.0</td>\n",
       "      <td>1.0</td>\n",
       "      <td>1.0</td>\n",
       "      <td>28.0</td>\n",
       "      <td>0.0</td>\n",
       "      <td>0.0</td>\n",
       "      <td>0.0</td>\n",
       "      <td>0.0</td>\n",
       "      <td>1.0</td>\n",
       "      <td>...</td>\n",
       "      <td>1.0</td>\n",
       "      <td>1.0</td>\n",
       "      <td>5.0</td>\n",
       "      <td>30.0</td>\n",
       "      <td>30.0</td>\n",
       "      <td>1.0</td>\n",
       "      <td>0.0</td>\n",
       "      <td>9.0</td>\n",
       "      <td>4.0</td>\n",
       "      <td>8.0</td>\n",
       "    </tr>\n",
       "    <tr>\n",
       "      <th>3</th>\n",
       "      <td>0.0</td>\n",
       "      <td>1.0</td>\n",
       "      <td>0.0</td>\n",
       "      <td>1.0</td>\n",
       "      <td>27.0</td>\n",
       "      <td>0.0</td>\n",
       "      <td>0.0</td>\n",
       "      <td>0.0</td>\n",
       "      <td>1.0</td>\n",
       "      <td>1.0</td>\n",
       "      <td>...</td>\n",
       "      <td>1.0</td>\n",
       "      <td>0.0</td>\n",
       "      <td>2.0</td>\n",
       "      <td>0.0</td>\n",
       "      <td>0.0</td>\n",
       "      <td>0.0</td>\n",
       "      <td>0.0</td>\n",
       "      <td>11.0</td>\n",
       "      <td>3.0</td>\n",
       "      <td>6.0</td>\n",
       "    </tr>\n",
       "    <tr>\n",
       "      <th>4</th>\n",
       "      <td>0.0</td>\n",
       "      <td>1.0</td>\n",
       "      <td>1.0</td>\n",
       "      <td>1.0</td>\n",
       "      <td>24.0</td>\n",
       "      <td>0.0</td>\n",
       "      <td>0.0</td>\n",
       "      <td>0.0</td>\n",
       "      <td>1.0</td>\n",
       "      <td>1.0</td>\n",
       "      <td>...</td>\n",
       "      <td>1.0</td>\n",
       "      <td>0.0</td>\n",
       "      <td>2.0</td>\n",
       "      <td>3.0</td>\n",
       "      <td>0.0</td>\n",
       "      <td>0.0</td>\n",
       "      <td>0.0</td>\n",
       "      <td>11.0</td>\n",
       "      <td>5.0</td>\n",
       "      <td>4.0</td>\n",
       "    </tr>\n",
       "  </tbody>\n",
       "</table>\n",
       "<p>5 rows × 22 columns</p>\n",
       "</div>"
      ],
      "text/plain": [
       "   HeartDiseaseorAttack  HighBP  HighChol  CholCheck   BMI  Smoker  Stroke  \\\n",
       "0                   0.0     1.0       1.0        1.0  40.0     1.0     0.0   \n",
       "1                   0.0     0.0       0.0        0.0  25.0     1.0     0.0   \n",
       "2                   0.0     1.0       1.0        1.0  28.0     0.0     0.0   \n",
       "3                   0.0     1.0       0.0        1.0  27.0     0.0     0.0   \n",
       "4                   0.0     1.0       1.0        1.0  24.0     0.0     0.0   \n",
       "\n",
       "   Diabetes  PhysActivity  Fruits  ...  AnyHealthcare  NoDocbcCost  GenHlth  \\\n",
       "0       0.0           0.0     0.0  ...            1.0          0.0      5.0   \n",
       "1       0.0           1.0     0.0  ...            0.0          1.0      3.0   \n",
       "2       0.0           0.0     1.0  ...            1.0          1.0      5.0   \n",
       "3       0.0           1.0     1.0  ...            1.0          0.0      2.0   \n",
       "4       0.0           1.0     1.0  ...            1.0          0.0      2.0   \n",
       "\n",
       "   MentHlth  PhysHlth  DiffWalk  Sex   Age  Education  Income  \n",
       "0      18.0      15.0       1.0  0.0   9.0        4.0     3.0  \n",
       "1       0.0       0.0       0.0  0.0   7.0        6.0     1.0  \n",
       "2      30.0      30.0       1.0  0.0   9.0        4.0     8.0  \n",
       "3       0.0       0.0       0.0  0.0  11.0        3.0     6.0  \n",
       "4       3.0       0.0       0.0  0.0  11.0        5.0     4.0  \n",
       "\n",
       "[5 rows x 22 columns]"
      ]
     },
     "execution_count": 1,
     "metadata": {},
     "output_type": "execute_result"
    }
   ],
   "source": [
    "import pandas as pd\n",
    "import numpy as np\n",
    "data = pd.read_csv('/home/aswin/data/heart/heart_disease_health_indicators_BRFSS2015.csv')\n",
    "data.head()"
   ]
  },
  {
   "cell_type": "code",
   "execution_count": 4,
   "metadata": {},
   "outputs": [
    {
     "data": {
      "text/plain": [
       "0         0.0\n",
       "1         0.0\n",
       "2         0.0\n",
       "3         0.0\n",
       "4         0.0\n",
       "         ... \n",
       "253675    0.0\n",
       "253676    0.0\n",
       "253677    0.0\n",
       "253678    0.0\n",
       "253679    1.0\n",
       "Name: HeartDiseaseorAttack, Length: 253680, dtype: float64"
      ]
     },
     "execution_count": 4,
     "metadata": {},
     "output_type": "execute_result"
    }
   ],
   "source": [
    "x = data.iloc[:, 1:].values\n",
    "y = data[\"HeartDiseaseorAttack\"]\n",
    "x\n",
    "y"
   ]
  },
  {
   "cell_type": "code",
   "execution_count": 5,
   "metadata": {},
   "outputs": [],
   "source": [
    "nomi_col=[2,6,10]\n",
    "ordi_col=[1,8]\n",
    "num_col=[0,3,4,5,7,9]"
   ]
  },
  {
   "cell_type": "code",
   "execution_count": 6,
   "metadata": {},
   "outputs": [
    {
     "data": {
      "text/html": [
       "<style>#sk-68373902-ad11-457d-a09a-acbc76d9a6fb {color: black;background-color: white;}#sk-68373902-ad11-457d-a09a-acbc76d9a6fb pre{padding: 0;}#sk-68373902-ad11-457d-a09a-acbc76d9a6fb div.sk-toggleable {background-color: white;}#sk-68373902-ad11-457d-a09a-acbc76d9a6fb label.sk-toggleable__label {cursor: pointer;display: block;width: 100%;margin-bottom: 0;padding: 0.3em;box-sizing: border-box;text-align: center;}#sk-68373902-ad11-457d-a09a-acbc76d9a6fb label.sk-toggleable__label-arrow:before {content: \"▸\";float: left;margin-right: 0.25em;color: #696969;}#sk-68373902-ad11-457d-a09a-acbc76d9a6fb label.sk-toggleable__label-arrow:hover:before {color: black;}#sk-68373902-ad11-457d-a09a-acbc76d9a6fb div.sk-estimator:hover label.sk-toggleable__label-arrow:before {color: black;}#sk-68373902-ad11-457d-a09a-acbc76d9a6fb div.sk-toggleable__content {max-height: 0;max-width: 0;overflow: hidden;text-align: left;background-color: #f0f8ff;}#sk-68373902-ad11-457d-a09a-acbc76d9a6fb div.sk-toggleable__content pre {margin: 0.2em;color: black;border-radius: 0.25em;background-color: #f0f8ff;}#sk-68373902-ad11-457d-a09a-acbc76d9a6fb input.sk-toggleable__control:checked~div.sk-toggleable__content {max-height: 200px;max-width: 100%;overflow: auto;}#sk-68373902-ad11-457d-a09a-acbc76d9a6fb input.sk-toggleable__control:checked~label.sk-toggleable__label-arrow:before {content: \"▾\";}#sk-68373902-ad11-457d-a09a-acbc76d9a6fb div.sk-estimator input.sk-toggleable__control:checked~label.sk-toggleable__label {background-color: #d4ebff;}#sk-68373902-ad11-457d-a09a-acbc76d9a6fb div.sk-label input.sk-toggleable__control:checked~label.sk-toggleable__label {background-color: #d4ebff;}#sk-68373902-ad11-457d-a09a-acbc76d9a6fb input.sk-hidden--visually {border: 0;clip: rect(1px 1px 1px 1px);clip: rect(1px, 1px, 1px, 1px);height: 1px;margin: -1px;overflow: hidden;padding: 0;position: absolute;width: 1px;}#sk-68373902-ad11-457d-a09a-acbc76d9a6fb div.sk-estimator {font-family: monospace;background-color: #f0f8ff;border: 1px dotted black;border-radius: 0.25em;box-sizing: border-box;margin-bottom: 0.5em;}#sk-68373902-ad11-457d-a09a-acbc76d9a6fb div.sk-estimator:hover {background-color: #d4ebff;}#sk-68373902-ad11-457d-a09a-acbc76d9a6fb div.sk-parallel-item::after {content: \"\";width: 100%;border-bottom: 1px solid gray;flex-grow: 1;}#sk-68373902-ad11-457d-a09a-acbc76d9a6fb div.sk-label:hover label.sk-toggleable__label {background-color: #d4ebff;}#sk-68373902-ad11-457d-a09a-acbc76d9a6fb div.sk-serial::before {content: \"\";position: absolute;border-left: 1px solid gray;box-sizing: border-box;top: 2em;bottom: 0;left: 50%;}#sk-68373902-ad11-457d-a09a-acbc76d9a6fb div.sk-serial {display: flex;flex-direction: column;align-items: center;background-color: white;padding-right: 0.2em;padding-left: 0.2em;}#sk-68373902-ad11-457d-a09a-acbc76d9a6fb div.sk-item {z-index: 1;}#sk-68373902-ad11-457d-a09a-acbc76d9a6fb div.sk-parallel {display: flex;align-items: stretch;justify-content: center;background-color: white;}#sk-68373902-ad11-457d-a09a-acbc76d9a6fb div.sk-parallel::before {content: \"\";position: absolute;border-left: 1px solid gray;box-sizing: border-box;top: 2em;bottom: 0;left: 50%;}#sk-68373902-ad11-457d-a09a-acbc76d9a6fb div.sk-parallel-item {display: flex;flex-direction: column;position: relative;background-color: white;}#sk-68373902-ad11-457d-a09a-acbc76d9a6fb div.sk-parallel-item:first-child::after {align-self: flex-end;width: 50%;}#sk-68373902-ad11-457d-a09a-acbc76d9a6fb div.sk-parallel-item:last-child::after {align-self: flex-start;width: 50%;}#sk-68373902-ad11-457d-a09a-acbc76d9a6fb div.sk-parallel-item:only-child::after {width: 0;}#sk-68373902-ad11-457d-a09a-acbc76d9a6fb div.sk-dashed-wrapped {border: 1px dashed gray;margin: 0 0.4em 0.5em 0.4em;box-sizing: border-box;padding-bottom: 0.4em;background-color: white;position: relative;}#sk-68373902-ad11-457d-a09a-acbc76d9a6fb div.sk-label label {font-family: monospace;font-weight: bold;background-color: white;display: inline-block;line-height: 1.2em;}#sk-68373902-ad11-457d-a09a-acbc76d9a6fb div.sk-label-container {position: relative;z-index: 2;text-align: center;}#sk-68373902-ad11-457d-a09a-acbc76d9a6fb div.sk-container {/* jupyter's `normalize.less` sets `[hidden] { display: none; }` but bootstrap.min.css set `[hidden] { display: none !important; }` so we also need the `!important` here to be able to override the default hidden behavior on the sphinx rendered scikit-learn.org. See: https://github.com/scikit-learn/scikit-learn/issues/21755 */display: inline-block !important;position: relative;}#sk-68373902-ad11-457d-a09a-acbc76d9a6fb div.sk-text-repr-fallback {display: none;}</style><div id=\"sk-68373902-ad11-457d-a09a-acbc76d9a6fb\" class=\"sk-top-container\"><div class=\"sk-text-repr-fallback\"><pre>ColumnTransformer(remainder=&#x27;passthrough&#x27;,\n",
       "                  transformers=[(&#x27;onehotencoder&#x27;, OneHotEncoder(sparse=False),\n",
       "                                 [2, 6, 10]),\n",
       "                                (&#x27;ordinalencoder&#x27;, OrdinalEncoder(), [1, 8]),\n",
       "                                (&#x27;standardscaler&#x27;, StandardScaler(),\n",
       "                                 [0, 3, 4, 5, 7, 9])])</pre><b>Please rerun this cell to show the HTML repr or trust the notebook.</b></div><div class=\"sk-container\" hidden><div class=\"sk-item sk-dashed-wrapped\"><div class=\"sk-label-container\"><div class=\"sk-label sk-toggleable\"><input class=\"sk-toggleable__control sk-hidden--visually\" id=\"5b77e1f8-cf4e-4de1-81a3-fa10d60f672c\" type=\"checkbox\" ><label for=\"5b77e1f8-cf4e-4de1-81a3-fa10d60f672c\" class=\"sk-toggleable__label sk-toggleable__label-arrow\">ColumnTransformer</label><div class=\"sk-toggleable__content\"><pre>ColumnTransformer(remainder=&#x27;passthrough&#x27;,\n",
       "                  transformers=[(&#x27;onehotencoder&#x27;, OneHotEncoder(sparse=False),\n",
       "                                 [2, 6, 10]),\n",
       "                                (&#x27;ordinalencoder&#x27;, OrdinalEncoder(), [1, 8]),\n",
       "                                (&#x27;standardscaler&#x27;, StandardScaler(),\n",
       "                                 [0, 3, 4, 5, 7, 9])])</pre></div></div></div><div class=\"sk-parallel\"><div class=\"sk-parallel-item\"><div class=\"sk-item\"><div class=\"sk-label-container\"><div class=\"sk-label sk-toggleable\"><input class=\"sk-toggleable__control sk-hidden--visually\" id=\"7c521afc-bb9b-4b7f-8e0d-8b1fabf31fba\" type=\"checkbox\" ><label for=\"7c521afc-bb9b-4b7f-8e0d-8b1fabf31fba\" class=\"sk-toggleable__label sk-toggleable__label-arrow\">onehotencoder</label><div class=\"sk-toggleable__content\"><pre>[2, 6, 10]</pre></div></div></div><div class=\"sk-serial\"><div class=\"sk-item\"><div class=\"sk-estimator sk-toggleable\"><input class=\"sk-toggleable__control sk-hidden--visually\" id=\"d2668d2d-1888-4aba-b620-04bc9d9bc755\" type=\"checkbox\" ><label for=\"d2668d2d-1888-4aba-b620-04bc9d9bc755\" class=\"sk-toggleable__label sk-toggleable__label-arrow\">OneHotEncoder</label><div class=\"sk-toggleable__content\"><pre>OneHotEncoder(sparse=False)</pre></div></div></div></div></div></div><div class=\"sk-parallel-item\"><div class=\"sk-item\"><div class=\"sk-label-container\"><div class=\"sk-label sk-toggleable\"><input class=\"sk-toggleable__control sk-hidden--visually\" id=\"1f423b1a-9116-4056-8926-3f6423921d61\" type=\"checkbox\" ><label for=\"1f423b1a-9116-4056-8926-3f6423921d61\" class=\"sk-toggleable__label sk-toggleable__label-arrow\">ordinalencoder</label><div class=\"sk-toggleable__content\"><pre>[1, 8]</pre></div></div></div><div class=\"sk-serial\"><div class=\"sk-item\"><div class=\"sk-estimator sk-toggleable\"><input class=\"sk-toggleable__control sk-hidden--visually\" id=\"0a44a6d7-456b-4651-a5cf-5ae7e190389f\" type=\"checkbox\" ><label for=\"0a44a6d7-456b-4651-a5cf-5ae7e190389f\" class=\"sk-toggleable__label sk-toggleable__label-arrow\">OrdinalEncoder</label><div class=\"sk-toggleable__content\"><pre>OrdinalEncoder()</pre></div></div></div></div></div></div><div class=\"sk-parallel-item\"><div class=\"sk-item\"><div class=\"sk-label-container\"><div class=\"sk-label sk-toggleable\"><input class=\"sk-toggleable__control sk-hidden--visually\" id=\"c8c4dfa2-a5b7-45ce-8f29-57f07689bb84\" type=\"checkbox\" ><label for=\"c8c4dfa2-a5b7-45ce-8f29-57f07689bb84\" class=\"sk-toggleable__label sk-toggleable__label-arrow\">standardscaler</label><div class=\"sk-toggleable__content\"><pre>[0, 3, 4, 5, 7, 9]</pre></div></div></div><div class=\"sk-serial\"><div class=\"sk-item\"><div class=\"sk-estimator sk-toggleable\"><input class=\"sk-toggleable__control sk-hidden--visually\" id=\"a08e2b3c-7bb9-4306-9f61-1f0a2c0ffe0f\" type=\"checkbox\" ><label for=\"a08e2b3c-7bb9-4306-9f61-1f0a2c0ffe0f\" class=\"sk-toggleable__label sk-toggleable__label-arrow\">StandardScaler</label><div class=\"sk-toggleable__content\"><pre>StandardScaler()</pre></div></div></div></div></div></div><div class=\"sk-parallel-item\"><div class=\"sk-item\"><div class=\"sk-label-container\"><div class=\"sk-label sk-toggleable\"><input class=\"sk-toggleable__control sk-hidden--visually\" id=\"743172e3-107d-4848-ba8e-18ae3f73f673\" type=\"checkbox\" ><label for=\"743172e3-107d-4848-ba8e-18ae3f73f673\" class=\"sk-toggleable__label sk-toggleable__label-arrow\">remainder</label><div class=\"sk-toggleable__content\"><pre></pre></div></div></div><div class=\"sk-serial\"><div class=\"sk-item\"><div class=\"sk-estimator sk-toggleable\"><input class=\"sk-toggleable__control sk-hidden--visually\" id=\"65ab5764-56b7-4df5-bbd0-5f31489ddb0b\" type=\"checkbox\" ><label for=\"65ab5764-56b7-4df5-bbd0-5f31489ddb0b\" class=\"sk-toggleable__label sk-toggleable__label-arrow\">passthrough</label><div class=\"sk-toggleable__content\"><pre>passthrough</pre></div></div></div></div></div></div></div></div></div></div>"
      ],
      "text/plain": [
       "ColumnTransformer(remainder='passthrough',\n",
       "                  transformers=[('onehotencoder', OneHotEncoder(sparse=False),\n",
       "                                 [2, 6, 10]),\n",
       "                                ('ordinalencoder', OrdinalEncoder(), [1, 8]),\n",
       "                                ('standardscaler', StandardScaler(),\n",
       "                                 [0, 3, 4, 5, 7, 9])])"
      ]
     },
     "execution_count": 6,
     "metadata": {},
     "output_type": "execute_result"
    }
   ],
   "source": [
    "from sklearn.preprocessing import OneHotEncoder, OrdinalEncoder, StandardScaler\n",
    "from sklearn.compose import make_column_transformer\n",
    "from sklearn import set_config\n",
    "trans = make_column_transformer((OneHotEncoder(sparse=False),nomi_col),(OrdinalEncoder(),ordi_col),(StandardScaler(),num_col),remainder=\"passthrough\")\n",
    "set_config(display=\"diagram\")\n",
    "trans"
   ]
  },
  {
   "cell_type": "code",
   "execution_count": 7,
   "metadata": {},
   "outputs": [],
   "source": [
    "from sklearn.model_selection import train_test_split\n",
    "x_train,x_test,y_train,y_test=train_test_split(x,y,test_size=.2)"
   ]
  },
  {
   "cell_type": "code",
   "execution_count": 8,
   "metadata": {},
   "outputs": [
    {
     "data": {
      "text/html": [
       "<style>#sk-e29e856b-b2fc-47d4-b083-579b38d3f4b9 {color: black;background-color: white;}#sk-e29e856b-b2fc-47d4-b083-579b38d3f4b9 pre{padding: 0;}#sk-e29e856b-b2fc-47d4-b083-579b38d3f4b9 div.sk-toggleable {background-color: white;}#sk-e29e856b-b2fc-47d4-b083-579b38d3f4b9 label.sk-toggleable__label {cursor: pointer;display: block;width: 100%;margin-bottom: 0;padding: 0.3em;box-sizing: border-box;text-align: center;}#sk-e29e856b-b2fc-47d4-b083-579b38d3f4b9 label.sk-toggleable__label-arrow:before {content: \"▸\";float: left;margin-right: 0.25em;color: #696969;}#sk-e29e856b-b2fc-47d4-b083-579b38d3f4b9 label.sk-toggleable__label-arrow:hover:before {color: black;}#sk-e29e856b-b2fc-47d4-b083-579b38d3f4b9 div.sk-estimator:hover label.sk-toggleable__label-arrow:before {color: black;}#sk-e29e856b-b2fc-47d4-b083-579b38d3f4b9 div.sk-toggleable__content {max-height: 0;max-width: 0;overflow: hidden;text-align: left;background-color: #f0f8ff;}#sk-e29e856b-b2fc-47d4-b083-579b38d3f4b9 div.sk-toggleable__content pre {margin: 0.2em;color: black;border-radius: 0.25em;background-color: #f0f8ff;}#sk-e29e856b-b2fc-47d4-b083-579b38d3f4b9 input.sk-toggleable__control:checked~div.sk-toggleable__content {max-height: 200px;max-width: 100%;overflow: auto;}#sk-e29e856b-b2fc-47d4-b083-579b38d3f4b9 input.sk-toggleable__control:checked~label.sk-toggleable__label-arrow:before {content: \"▾\";}#sk-e29e856b-b2fc-47d4-b083-579b38d3f4b9 div.sk-estimator input.sk-toggleable__control:checked~label.sk-toggleable__label {background-color: #d4ebff;}#sk-e29e856b-b2fc-47d4-b083-579b38d3f4b9 div.sk-label input.sk-toggleable__control:checked~label.sk-toggleable__label {background-color: #d4ebff;}#sk-e29e856b-b2fc-47d4-b083-579b38d3f4b9 input.sk-hidden--visually {border: 0;clip: rect(1px 1px 1px 1px);clip: rect(1px, 1px, 1px, 1px);height: 1px;margin: -1px;overflow: hidden;padding: 0;position: absolute;width: 1px;}#sk-e29e856b-b2fc-47d4-b083-579b38d3f4b9 div.sk-estimator {font-family: monospace;background-color: #f0f8ff;border: 1px dotted black;border-radius: 0.25em;box-sizing: border-box;margin-bottom: 0.5em;}#sk-e29e856b-b2fc-47d4-b083-579b38d3f4b9 div.sk-estimator:hover {background-color: #d4ebff;}#sk-e29e856b-b2fc-47d4-b083-579b38d3f4b9 div.sk-parallel-item::after {content: \"\";width: 100%;border-bottom: 1px solid gray;flex-grow: 1;}#sk-e29e856b-b2fc-47d4-b083-579b38d3f4b9 div.sk-label:hover label.sk-toggleable__label {background-color: #d4ebff;}#sk-e29e856b-b2fc-47d4-b083-579b38d3f4b9 div.sk-serial::before {content: \"\";position: absolute;border-left: 1px solid gray;box-sizing: border-box;top: 2em;bottom: 0;left: 50%;}#sk-e29e856b-b2fc-47d4-b083-579b38d3f4b9 div.sk-serial {display: flex;flex-direction: column;align-items: center;background-color: white;padding-right: 0.2em;padding-left: 0.2em;}#sk-e29e856b-b2fc-47d4-b083-579b38d3f4b9 div.sk-item {z-index: 1;}#sk-e29e856b-b2fc-47d4-b083-579b38d3f4b9 div.sk-parallel {display: flex;align-items: stretch;justify-content: center;background-color: white;}#sk-e29e856b-b2fc-47d4-b083-579b38d3f4b9 div.sk-parallel::before {content: \"\";position: absolute;border-left: 1px solid gray;box-sizing: border-box;top: 2em;bottom: 0;left: 50%;}#sk-e29e856b-b2fc-47d4-b083-579b38d3f4b9 div.sk-parallel-item {display: flex;flex-direction: column;position: relative;background-color: white;}#sk-e29e856b-b2fc-47d4-b083-579b38d3f4b9 div.sk-parallel-item:first-child::after {align-self: flex-end;width: 50%;}#sk-e29e856b-b2fc-47d4-b083-579b38d3f4b9 div.sk-parallel-item:last-child::after {align-self: flex-start;width: 50%;}#sk-e29e856b-b2fc-47d4-b083-579b38d3f4b9 div.sk-parallel-item:only-child::after {width: 0;}#sk-e29e856b-b2fc-47d4-b083-579b38d3f4b9 div.sk-dashed-wrapped {border: 1px dashed gray;margin: 0 0.4em 0.5em 0.4em;box-sizing: border-box;padding-bottom: 0.4em;background-color: white;position: relative;}#sk-e29e856b-b2fc-47d4-b083-579b38d3f4b9 div.sk-label label {font-family: monospace;font-weight: bold;background-color: white;display: inline-block;line-height: 1.2em;}#sk-e29e856b-b2fc-47d4-b083-579b38d3f4b9 div.sk-label-container {position: relative;z-index: 2;text-align: center;}#sk-e29e856b-b2fc-47d4-b083-579b38d3f4b9 div.sk-container {/* jupyter's `normalize.less` sets `[hidden] { display: none; }` but bootstrap.min.css set `[hidden] { display: none !important; }` so we also need the `!important` here to be able to override the default hidden behavior on the sphinx rendered scikit-learn.org. See: https://github.com/scikit-learn/scikit-learn/issues/21755 */display: inline-block !important;position: relative;}#sk-e29e856b-b2fc-47d4-b083-579b38d3f4b9 div.sk-text-repr-fallback {display: none;}</style><div id=\"sk-e29e856b-b2fc-47d4-b083-579b38d3f4b9\" class=\"sk-top-container\"><div class=\"sk-text-repr-fallback\"><pre>KNeighborsClassifier(n_neighbors=11)</pre><b>Please rerun this cell to show the HTML repr or trust the notebook.</b></div><div class=\"sk-container\" hidden><div class=\"sk-item\"><div class=\"sk-estimator sk-toggleable\"><input class=\"sk-toggleable__control sk-hidden--visually\" id=\"aed9cbdd-88eb-4098-9d96-6ffd43a3a9e3\" type=\"checkbox\" checked><label for=\"aed9cbdd-88eb-4098-9d96-6ffd43a3a9e3\" class=\"sk-toggleable__label sk-toggleable__label-arrow\">KNeighborsClassifier</label><div class=\"sk-toggleable__content\"><pre>KNeighborsClassifier(n_neighbors=11)</pre></div></div></div></div></div>"
      ],
      "text/plain": [
       "KNeighborsClassifier(n_neighbors=11)"
      ]
     },
     "execution_count": 8,
     "metadata": {},
     "output_type": "execute_result"
    }
   ],
   "source": [
    "from sklearn.neighbors import KNeighborsClassifier\n",
    "from sklearn.pipeline import make_pipeline\n",
    "Model = KNeighborsClassifier(11)\n",
    "pipe = make_pipeline(trans,Model)\n",
    "Model"
   ]
  },
  {
   "cell_type": "code",
   "execution_count": 9,
   "metadata": {},
   "outputs": [
    {
     "data": {
      "text/html": [
       "<style>#sk-b46cbfdb-ad9f-48ab-be08-fa9027b5477a {color: black;background-color: white;}#sk-b46cbfdb-ad9f-48ab-be08-fa9027b5477a pre{padding: 0;}#sk-b46cbfdb-ad9f-48ab-be08-fa9027b5477a div.sk-toggleable {background-color: white;}#sk-b46cbfdb-ad9f-48ab-be08-fa9027b5477a label.sk-toggleable__label {cursor: pointer;display: block;width: 100%;margin-bottom: 0;padding: 0.3em;box-sizing: border-box;text-align: center;}#sk-b46cbfdb-ad9f-48ab-be08-fa9027b5477a label.sk-toggleable__label-arrow:before {content: \"▸\";float: left;margin-right: 0.25em;color: #696969;}#sk-b46cbfdb-ad9f-48ab-be08-fa9027b5477a label.sk-toggleable__label-arrow:hover:before {color: black;}#sk-b46cbfdb-ad9f-48ab-be08-fa9027b5477a div.sk-estimator:hover label.sk-toggleable__label-arrow:before {color: black;}#sk-b46cbfdb-ad9f-48ab-be08-fa9027b5477a div.sk-toggleable__content {max-height: 0;max-width: 0;overflow: hidden;text-align: left;background-color: #f0f8ff;}#sk-b46cbfdb-ad9f-48ab-be08-fa9027b5477a div.sk-toggleable__content pre {margin: 0.2em;color: black;border-radius: 0.25em;background-color: #f0f8ff;}#sk-b46cbfdb-ad9f-48ab-be08-fa9027b5477a input.sk-toggleable__control:checked~div.sk-toggleable__content {max-height: 200px;max-width: 100%;overflow: auto;}#sk-b46cbfdb-ad9f-48ab-be08-fa9027b5477a input.sk-toggleable__control:checked~label.sk-toggleable__label-arrow:before {content: \"▾\";}#sk-b46cbfdb-ad9f-48ab-be08-fa9027b5477a div.sk-estimator input.sk-toggleable__control:checked~label.sk-toggleable__label {background-color: #d4ebff;}#sk-b46cbfdb-ad9f-48ab-be08-fa9027b5477a div.sk-label input.sk-toggleable__control:checked~label.sk-toggleable__label {background-color: #d4ebff;}#sk-b46cbfdb-ad9f-48ab-be08-fa9027b5477a input.sk-hidden--visually {border: 0;clip: rect(1px 1px 1px 1px);clip: rect(1px, 1px, 1px, 1px);height: 1px;margin: -1px;overflow: hidden;padding: 0;position: absolute;width: 1px;}#sk-b46cbfdb-ad9f-48ab-be08-fa9027b5477a div.sk-estimator {font-family: monospace;background-color: #f0f8ff;border: 1px dotted black;border-radius: 0.25em;box-sizing: border-box;margin-bottom: 0.5em;}#sk-b46cbfdb-ad9f-48ab-be08-fa9027b5477a div.sk-estimator:hover {background-color: #d4ebff;}#sk-b46cbfdb-ad9f-48ab-be08-fa9027b5477a div.sk-parallel-item::after {content: \"\";width: 100%;border-bottom: 1px solid gray;flex-grow: 1;}#sk-b46cbfdb-ad9f-48ab-be08-fa9027b5477a div.sk-label:hover label.sk-toggleable__label {background-color: #d4ebff;}#sk-b46cbfdb-ad9f-48ab-be08-fa9027b5477a div.sk-serial::before {content: \"\";position: absolute;border-left: 1px solid gray;box-sizing: border-box;top: 2em;bottom: 0;left: 50%;}#sk-b46cbfdb-ad9f-48ab-be08-fa9027b5477a div.sk-serial {display: flex;flex-direction: column;align-items: center;background-color: white;padding-right: 0.2em;padding-left: 0.2em;}#sk-b46cbfdb-ad9f-48ab-be08-fa9027b5477a div.sk-item {z-index: 1;}#sk-b46cbfdb-ad9f-48ab-be08-fa9027b5477a div.sk-parallel {display: flex;align-items: stretch;justify-content: center;background-color: white;}#sk-b46cbfdb-ad9f-48ab-be08-fa9027b5477a div.sk-parallel::before {content: \"\";position: absolute;border-left: 1px solid gray;box-sizing: border-box;top: 2em;bottom: 0;left: 50%;}#sk-b46cbfdb-ad9f-48ab-be08-fa9027b5477a div.sk-parallel-item {display: flex;flex-direction: column;position: relative;background-color: white;}#sk-b46cbfdb-ad9f-48ab-be08-fa9027b5477a div.sk-parallel-item:first-child::after {align-self: flex-end;width: 50%;}#sk-b46cbfdb-ad9f-48ab-be08-fa9027b5477a div.sk-parallel-item:last-child::after {align-self: flex-start;width: 50%;}#sk-b46cbfdb-ad9f-48ab-be08-fa9027b5477a div.sk-parallel-item:only-child::after {width: 0;}#sk-b46cbfdb-ad9f-48ab-be08-fa9027b5477a div.sk-dashed-wrapped {border: 1px dashed gray;margin: 0 0.4em 0.5em 0.4em;box-sizing: border-box;padding-bottom: 0.4em;background-color: white;position: relative;}#sk-b46cbfdb-ad9f-48ab-be08-fa9027b5477a div.sk-label label {font-family: monospace;font-weight: bold;background-color: white;display: inline-block;line-height: 1.2em;}#sk-b46cbfdb-ad9f-48ab-be08-fa9027b5477a div.sk-label-container {position: relative;z-index: 2;text-align: center;}#sk-b46cbfdb-ad9f-48ab-be08-fa9027b5477a div.sk-container {/* jupyter's `normalize.less` sets `[hidden] { display: none; }` but bootstrap.min.css set `[hidden] { display: none !important; }` so we also need the `!important` here to be able to override the default hidden behavior on the sphinx rendered scikit-learn.org. See: https://github.com/scikit-learn/scikit-learn/issues/21755 */display: inline-block !important;position: relative;}#sk-b46cbfdb-ad9f-48ab-be08-fa9027b5477a div.sk-text-repr-fallback {display: none;}</style><div id=\"sk-b46cbfdb-ad9f-48ab-be08-fa9027b5477a\" class=\"sk-top-container\"><div class=\"sk-text-repr-fallback\"><pre>Pipeline(steps=[(&#x27;columntransformer&#x27;,\n",
       "                 ColumnTransformer(remainder=&#x27;passthrough&#x27;,\n",
       "                                   transformers=[(&#x27;onehotencoder&#x27;,\n",
       "                                                  OneHotEncoder(sparse=False),\n",
       "                                                  [2, 6, 10]),\n",
       "                                                 (&#x27;ordinalencoder&#x27;,\n",
       "                                                  OrdinalEncoder(), [1, 8]),\n",
       "                                                 (&#x27;standardscaler&#x27;,\n",
       "                                                  StandardScaler(),\n",
       "                                                  [0, 3, 4, 5, 7, 9])])),\n",
       "                (&#x27;kneighborsclassifier&#x27;, KNeighborsClassifier(n_neighbors=11))])</pre><b>Please rerun this cell to show the HTML repr or trust the notebook.</b></div><div class=\"sk-container\" hidden><div class=\"sk-item sk-dashed-wrapped\"><div class=\"sk-label-container\"><div class=\"sk-label sk-toggleable\"><input class=\"sk-toggleable__control sk-hidden--visually\" id=\"4ea1fc1f-9fcd-4442-b1ef-33f4fc46cda2\" type=\"checkbox\" ><label for=\"4ea1fc1f-9fcd-4442-b1ef-33f4fc46cda2\" class=\"sk-toggleable__label sk-toggleable__label-arrow\">Pipeline</label><div class=\"sk-toggleable__content\"><pre>Pipeline(steps=[(&#x27;columntransformer&#x27;,\n",
       "                 ColumnTransformer(remainder=&#x27;passthrough&#x27;,\n",
       "                                   transformers=[(&#x27;onehotencoder&#x27;,\n",
       "                                                  OneHotEncoder(sparse=False),\n",
       "                                                  [2, 6, 10]),\n",
       "                                                 (&#x27;ordinalencoder&#x27;,\n",
       "                                                  OrdinalEncoder(), [1, 8]),\n",
       "                                                 (&#x27;standardscaler&#x27;,\n",
       "                                                  StandardScaler(),\n",
       "                                                  [0, 3, 4, 5, 7, 9])])),\n",
       "                (&#x27;kneighborsclassifier&#x27;, KNeighborsClassifier(n_neighbors=11))])</pre></div></div></div><div class=\"sk-serial\"><div class=\"sk-item sk-dashed-wrapped\"><div class=\"sk-label-container\"><div class=\"sk-label sk-toggleable\"><input class=\"sk-toggleable__control sk-hidden--visually\" id=\"6815e032-c49f-4fb1-b728-0e6620bdc592\" type=\"checkbox\" ><label for=\"6815e032-c49f-4fb1-b728-0e6620bdc592\" class=\"sk-toggleable__label sk-toggleable__label-arrow\">columntransformer: ColumnTransformer</label><div class=\"sk-toggleable__content\"><pre>ColumnTransformer(remainder=&#x27;passthrough&#x27;,\n",
       "                  transformers=[(&#x27;onehotencoder&#x27;, OneHotEncoder(sparse=False),\n",
       "                                 [2, 6, 10]),\n",
       "                                (&#x27;ordinalencoder&#x27;, OrdinalEncoder(), [1, 8]),\n",
       "                                (&#x27;standardscaler&#x27;, StandardScaler(),\n",
       "                                 [0, 3, 4, 5, 7, 9])])</pre></div></div></div><div class=\"sk-parallel\"><div class=\"sk-parallel-item\"><div class=\"sk-item\"><div class=\"sk-label-container\"><div class=\"sk-label sk-toggleable\"><input class=\"sk-toggleable__control sk-hidden--visually\" id=\"6d03e5d0-61e8-4a8b-86eb-e5a69c4875e6\" type=\"checkbox\" ><label for=\"6d03e5d0-61e8-4a8b-86eb-e5a69c4875e6\" class=\"sk-toggleable__label sk-toggleable__label-arrow\">onehotencoder</label><div class=\"sk-toggleable__content\"><pre>[2, 6, 10]</pre></div></div></div><div class=\"sk-serial\"><div class=\"sk-item\"><div class=\"sk-estimator sk-toggleable\"><input class=\"sk-toggleable__control sk-hidden--visually\" id=\"335be47f-07e2-4808-89d5-1882cac33eb5\" type=\"checkbox\" ><label for=\"335be47f-07e2-4808-89d5-1882cac33eb5\" class=\"sk-toggleable__label sk-toggleable__label-arrow\">OneHotEncoder</label><div class=\"sk-toggleable__content\"><pre>OneHotEncoder(sparse=False)</pre></div></div></div></div></div></div><div class=\"sk-parallel-item\"><div class=\"sk-item\"><div class=\"sk-label-container\"><div class=\"sk-label sk-toggleable\"><input class=\"sk-toggleable__control sk-hidden--visually\" id=\"a7eece9a-5862-4a53-bbfb-a8a035065cc4\" type=\"checkbox\" ><label for=\"a7eece9a-5862-4a53-bbfb-a8a035065cc4\" class=\"sk-toggleable__label sk-toggleable__label-arrow\">ordinalencoder</label><div class=\"sk-toggleable__content\"><pre>[1, 8]</pre></div></div></div><div class=\"sk-serial\"><div class=\"sk-item\"><div class=\"sk-estimator sk-toggleable\"><input class=\"sk-toggleable__control sk-hidden--visually\" id=\"9049d42a-d46a-4e9f-ab36-c266073fd284\" type=\"checkbox\" ><label for=\"9049d42a-d46a-4e9f-ab36-c266073fd284\" class=\"sk-toggleable__label sk-toggleable__label-arrow\">OrdinalEncoder</label><div class=\"sk-toggleable__content\"><pre>OrdinalEncoder()</pre></div></div></div></div></div></div><div class=\"sk-parallel-item\"><div class=\"sk-item\"><div class=\"sk-label-container\"><div class=\"sk-label sk-toggleable\"><input class=\"sk-toggleable__control sk-hidden--visually\" id=\"eae5db40-78fb-4dec-adbc-c1c65b7bdf37\" type=\"checkbox\" ><label for=\"eae5db40-78fb-4dec-adbc-c1c65b7bdf37\" class=\"sk-toggleable__label sk-toggleable__label-arrow\">standardscaler</label><div class=\"sk-toggleable__content\"><pre>[0, 3, 4, 5, 7, 9]</pre></div></div></div><div class=\"sk-serial\"><div class=\"sk-item\"><div class=\"sk-estimator sk-toggleable\"><input class=\"sk-toggleable__control sk-hidden--visually\" id=\"5b4b831c-dc16-4d6c-ba37-e00cf2242115\" type=\"checkbox\" ><label for=\"5b4b831c-dc16-4d6c-ba37-e00cf2242115\" class=\"sk-toggleable__label sk-toggleable__label-arrow\">StandardScaler</label><div class=\"sk-toggleable__content\"><pre>StandardScaler()</pre></div></div></div></div></div></div><div class=\"sk-parallel-item\"><div class=\"sk-item\"><div class=\"sk-label-container\"><div class=\"sk-label sk-toggleable\"><input class=\"sk-toggleable__control sk-hidden--visually\" id=\"0d07692c-4a1a-431e-a087-ee60e80af5c1\" type=\"checkbox\" ><label for=\"0d07692c-4a1a-431e-a087-ee60e80af5c1\" class=\"sk-toggleable__label sk-toggleable__label-arrow\">remainder</label><div class=\"sk-toggleable__content\"><pre>[11, 12, 13, 14, 15, 16, 17, 18, 19, 20]</pre></div></div></div><div class=\"sk-serial\"><div class=\"sk-item\"><div class=\"sk-estimator sk-toggleable\"><input class=\"sk-toggleable__control sk-hidden--visually\" id=\"dc4f2a91-9392-4206-b006-965be440df26\" type=\"checkbox\" ><label for=\"dc4f2a91-9392-4206-b006-965be440df26\" class=\"sk-toggleable__label sk-toggleable__label-arrow\">passthrough</label><div class=\"sk-toggleable__content\"><pre>passthrough</pre></div></div></div></div></div></div></div></div><div class=\"sk-item\"><div class=\"sk-estimator sk-toggleable\"><input class=\"sk-toggleable__control sk-hidden--visually\" id=\"5efb9cf5-79e7-41b4-9808-67411f1d6a1d\" type=\"checkbox\" ><label for=\"5efb9cf5-79e7-41b4-9808-67411f1d6a1d\" class=\"sk-toggleable__label sk-toggleable__label-arrow\">KNeighborsClassifier</label><div class=\"sk-toggleable__content\"><pre>KNeighborsClassifier(n_neighbors=11)</pre></div></div></div></div></div></div></div>"
      ],
      "text/plain": [
       "Pipeline(steps=[('columntransformer',\n",
       "                 ColumnTransformer(remainder='passthrough',\n",
       "                                   transformers=[('onehotencoder',\n",
       "                                                  OneHotEncoder(sparse=False),\n",
       "                                                  [2, 6, 10]),\n",
       "                                                 ('ordinalencoder',\n",
       "                                                  OrdinalEncoder(), [1, 8]),\n",
       "                                                 ('standardscaler',\n",
       "                                                  StandardScaler(),\n",
       "                                                  [0, 3, 4, 5, 7, 9])])),\n",
       "                ('kneighborsclassifier', KNeighborsClassifier(n_neighbors=11))])"
      ]
     },
     "execution_count": 9,
     "metadata": {},
     "output_type": "execute_result"
    }
   ],
   "source": [
    "pipe.fit(x_train,y_train)"
   ]
  },
  {
   "cell_type": "code",
   "execution_count": 10,
   "metadata": {},
   "outputs": [],
   "source": [
    "pred = pipe.predict(x_test)"
   ]
  },
  {
   "cell_type": "code",
   "execution_count": 11,
   "metadata": {},
   "outputs": [
    {
     "data": {
      "text/plain": [
       "0.9054714601072217"
      ]
     },
     "execution_count": 11,
     "metadata": {},
     "output_type": "execute_result"
    }
   ],
   "source": [
    "from sklearn.metrics import accuracy_score\n",
    "accuracy_score(pred,y_test)"
   ]
  },
  {
   "cell_type": "code",
   "execution_count": 18,
   "metadata": {},
   "outputs": [
    {
     "data": {
      "text/html": [
       "<style>#sk-d841d022-22cd-4488-bfbe-50272417851f {color: black;background-color: white;}#sk-d841d022-22cd-4488-bfbe-50272417851f pre{padding: 0;}#sk-d841d022-22cd-4488-bfbe-50272417851f div.sk-toggleable {background-color: white;}#sk-d841d022-22cd-4488-bfbe-50272417851f label.sk-toggleable__label {cursor: pointer;display: block;width: 100%;margin-bottom: 0;padding: 0.3em;box-sizing: border-box;text-align: center;}#sk-d841d022-22cd-4488-bfbe-50272417851f label.sk-toggleable__label-arrow:before {content: \"▸\";float: left;margin-right: 0.25em;color: #696969;}#sk-d841d022-22cd-4488-bfbe-50272417851f label.sk-toggleable__label-arrow:hover:before {color: black;}#sk-d841d022-22cd-4488-bfbe-50272417851f div.sk-estimator:hover label.sk-toggleable__label-arrow:before {color: black;}#sk-d841d022-22cd-4488-bfbe-50272417851f div.sk-toggleable__content {max-height: 0;max-width: 0;overflow: hidden;text-align: left;background-color: #f0f8ff;}#sk-d841d022-22cd-4488-bfbe-50272417851f div.sk-toggleable__content pre {margin: 0.2em;color: black;border-radius: 0.25em;background-color: #f0f8ff;}#sk-d841d022-22cd-4488-bfbe-50272417851f input.sk-toggleable__control:checked~div.sk-toggleable__content {max-height: 200px;max-width: 100%;overflow: auto;}#sk-d841d022-22cd-4488-bfbe-50272417851f input.sk-toggleable__control:checked~label.sk-toggleable__label-arrow:before {content: \"▾\";}#sk-d841d022-22cd-4488-bfbe-50272417851f div.sk-estimator input.sk-toggleable__control:checked~label.sk-toggleable__label {background-color: #d4ebff;}#sk-d841d022-22cd-4488-bfbe-50272417851f div.sk-label input.sk-toggleable__control:checked~label.sk-toggleable__label {background-color: #d4ebff;}#sk-d841d022-22cd-4488-bfbe-50272417851f input.sk-hidden--visually {border: 0;clip: rect(1px 1px 1px 1px);clip: rect(1px, 1px, 1px, 1px);height: 1px;margin: -1px;overflow: hidden;padding: 0;position: absolute;width: 1px;}#sk-d841d022-22cd-4488-bfbe-50272417851f div.sk-estimator {font-family: monospace;background-color: #f0f8ff;border: 1px dotted black;border-radius: 0.25em;box-sizing: border-box;margin-bottom: 0.5em;}#sk-d841d022-22cd-4488-bfbe-50272417851f div.sk-estimator:hover {background-color: #d4ebff;}#sk-d841d022-22cd-4488-bfbe-50272417851f div.sk-parallel-item::after {content: \"\";width: 100%;border-bottom: 1px solid gray;flex-grow: 1;}#sk-d841d022-22cd-4488-bfbe-50272417851f div.sk-label:hover label.sk-toggleable__label {background-color: #d4ebff;}#sk-d841d022-22cd-4488-bfbe-50272417851f div.sk-serial::before {content: \"\";position: absolute;border-left: 1px solid gray;box-sizing: border-box;top: 2em;bottom: 0;left: 50%;}#sk-d841d022-22cd-4488-bfbe-50272417851f div.sk-serial {display: flex;flex-direction: column;align-items: center;background-color: white;padding-right: 0.2em;padding-left: 0.2em;}#sk-d841d022-22cd-4488-bfbe-50272417851f div.sk-item {z-index: 1;}#sk-d841d022-22cd-4488-bfbe-50272417851f div.sk-parallel {display: flex;align-items: stretch;justify-content: center;background-color: white;}#sk-d841d022-22cd-4488-bfbe-50272417851f div.sk-parallel::before {content: \"\";position: absolute;border-left: 1px solid gray;box-sizing: border-box;top: 2em;bottom: 0;left: 50%;}#sk-d841d022-22cd-4488-bfbe-50272417851f div.sk-parallel-item {display: flex;flex-direction: column;position: relative;background-color: white;}#sk-d841d022-22cd-4488-bfbe-50272417851f div.sk-parallel-item:first-child::after {align-self: flex-end;width: 50%;}#sk-d841d022-22cd-4488-bfbe-50272417851f div.sk-parallel-item:last-child::after {align-self: flex-start;width: 50%;}#sk-d841d022-22cd-4488-bfbe-50272417851f div.sk-parallel-item:only-child::after {width: 0;}#sk-d841d022-22cd-4488-bfbe-50272417851f div.sk-dashed-wrapped {border: 1px dashed gray;margin: 0 0.4em 0.5em 0.4em;box-sizing: border-box;padding-bottom: 0.4em;background-color: white;position: relative;}#sk-d841d022-22cd-4488-bfbe-50272417851f div.sk-label label {font-family: monospace;font-weight: bold;background-color: white;display: inline-block;line-height: 1.2em;}#sk-d841d022-22cd-4488-bfbe-50272417851f div.sk-label-container {position: relative;z-index: 2;text-align: center;}#sk-d841d022-22cd-4488-bfbe-50272417851f div.sk-container {/* jupyter's `normalize.less` sets `[hidden] { display: none; }` but bootstrap.min.css set `[hidden] { display: none !important; }` so we also need the `!important` here to be able to override the default hidden behavior on the sphinx rendered scikit-learn.org. See: https://github.com/scikit-learn/scikit-learn/issues/21755 */display: inline-block !important;position: relative;}#sk-d841d022-22cd-4488-bfbe-50272417851f div.sk-text-repr-fallback {display: none;}</style><div id=\"sk-d841d022-22cd-4488-bfbe-50272417851f\" class=\"sk-top-container\"><div class=\"sk-text-repr-fallback\"><pre>Perceptron(class_weight=&#x27;balanced&#x27;)</pre><b>Please rerun this cell to show the HTML repr or trust the notebook.</b></div><div class=\"sk-container\" hidden><div class=\"sk-item\"><div class=\"sk-estimator sk-toggleable\"><input class=\"sk-toggleable__control sk-hidden--visually\" id=\"f57086a7-12a7-40fc-b80c-e21763010494\" type=\"checkbox\" checked><label for=\"f57086a7-12a7-40fc-b80c-e21763010494\" class=\"sk-toggleable__label sk-toggleable__label-arrow\">Perceptron</label><div class=\"sk-toggleable__content\"><pre>Perceptron(class_weight=&#x27;balanced&#x27;)</pre></div></div></div></div></div>"
      ],
      "text/plain": [
       "Perceptron(class_weight='balanced')"
      ]
     },
     "execution_count": 18,
     "metadata": {},
     "output_type": "execute_result"
    }
   ],
   "source": [
    "from sklearn.linear_model import Perceptron\n",
    "x2=data.loc[:,[\"HighBP\", \"Age\"]]\n",
    "y2=np.int_(data.HeartDiseaseorAttack)\n",
    "prc=Perceptron(class_weight=\"balanced\")\n",
    "prc.fit(x2,y2)"
   ]
  },
  {
   "cell_type": "code",
   "execution_count": 22,
   "metadata": {},
   "outputs": [
    {
     "name": "stderr",
     "output_type": "stream",
     "text": [
      "/home/aswin/anaconda3/envs/jina/lib/python3.8/site-packages/sklearn/base.py:450: UserWarning: X does not have valid feature names, but Perceptron was fitted with feature names\n",
      "  warnings.warn(\n"
     ]
    },
    {
     "data": {
      "text/plain": [
       "<AxesSubplot:>"
      ]
     },
     "execution_count": 22,
     "metadata": {},
     "output_type": "execute_result"
    },
    {
     "data": {
      "image/png": "[encoded data removed]",
      "text/plain": [
       "<Figure size 432x288 with 1 Axes>"
      ]
     },
     "metadata": {
      "needs_background": "light"
     },
     "output_type": "display_data"
    }
   ],
   "source": [
    "from mlxtend.plotting import plot_decision_regions\n",
    "plot_decision_regions(x2.values,y2,clf=prc,legend=2)"
   ]
  },
  {
   "cell_type": "code",
   "execution_count": 23,
   "metadata": {},
   "outputs": [
    {
     "data": {
      "text/html": [
       "<style>#sk-8adee90e-330d-4dd5-b350-ac585dbf7f30 {color: black;background-color: white;}#sk-8adee90e-330d-4dd5-b350-ac585dbf7f30 pre{padding: 0;}#sk-8adee90e-330d-4dd5-b350-ac585dbf7f30 div.sk-toggleable {background-color: white;}#sk-8adee90e-330d-4dd5-b350-ac585dbf7f30 label.sk-toggleable__label {cursor: pointer;display: block;width: 100%;margin-bottom: 0;padding: 0.3em;box-sizing: border-box;text-align: center;}#sk-8adee90e-330d-4dd5-b350-ac585dbf7f30 label.sk-toggleable__label-arrow:before {content: \"▸\";float: left;margin-right: 0.25em;color: #696969;}#sk-8adee90e-330d-4dd5-b350-ac585dbf7f30 label.sk-toggleable__label-arrow:hover:before {color: black;}#sk-8adee90e-330d-4dd5-b350-ac585dbf7f30 div.sk-estimator:hover label.sk-toggleable__label-arrow:before {color: black;}#sk-8adee90e-330d-4dd5-b350-ac585dbf7f30 div.sk-toggleable__content {max-height: 0;max-width: 0;overflow: hidden;text-align: left;background-color: #f0f8ff;}#sk-8adee90e-330d-4dd5-b350-ac585dbf7f30 div.sk-toggleable__content pre {margin: 0.2em;color: black;border-radius: 0.25em;background-color: #f0f8ff;}#sk-8adee90e-330d-4dd5-b350-ac585dbf7f30 input.sk-toggleable__control:checked~div.sk-toggleable__content {max-height: 200px;max-width: 100%;overflow: auto;}#sk-8adee90e-330d-4dd5-b350-ac585dbf7f30 input.sk-toggleable__control:checked~label.sk-toggleable__label-arrow:before {content: \"▾\";}#sk-8adee90e-330d-4dd5-b350-ac585dbf7f30 div.sk-estimator input.sk-toggleable__control:checked~label.sk-toggleable__label {background-color: #d4ebff;}#sk-8adee90e-330d-4dd5-b350-ac585dbf7f30 div.sk-label input.sk-toggleable__control:checked~label.sk-toggleable__label {background-color: #d4ebff;}#sk-8adee90e-330d-4dd5-b350-ac585dbf7f30 input.sk-hidden--visually {border: 0;clip: rect(1px 1px 1px 1px);clip: rect(1px, 1px, 1px, 1px);height: 1px;margin: -1px;overflow: hidden;padding: 0;position: absolute;width: 1px;}#sk-8adee90e-330d-4dd5-b350-ac585dbf7f30 div.sk-estimator {font-family: monospace;background-color: #f0f8ff;border: 1px dotted black;border-radius: 0.25em;box-sizing: border-box;margin-bottom: 0.5em;}#sk-8adee90e-330d-4dd5-b350-ac585dbf7f30 div.sk-estimator:hover {background-color: #d4ebff;}#sk-8adee90e-330d-4dd5-b350-ac585dbf7f30 div.sk-parallel-item::after {content: \"\";width: 100%;border-bottom: 1px solid gray;flex-grow: 1;}#sk-8adee90e-330d-4dd5-b350-ac585dbf7f30 div.sk-label:hover label.sk-toggleable__label {background-color: #d4ebff;}#sk-8adee90e-330d-4dd5-b350-ac585dbf7f30 div.sk-serial::before {content: \"\";position: absolute;border-left: 1px solid gray;box-sizing: border-box;top: 2em;bottom: 0;left: 50%;}#sk-8adee90e-330d-4dd5-b350-ac585dbf7f30 div.sk-serial {display: flex;flex-direction: column;align-items: center;background-color: white;padding-right: 0.2em;padding-left: 0.2em;}#sk-8adee90e-330d-4dd5-b350-ac585dbf7f30 div.sk-item {z-index: 1;}#sk-8adee90e-330d-4dd5-b350-ac585dbf7f30 div.sk-parallel {display: flex;align-items: stretch;justify-content: center;background-color: white;}#sk-8adee90e-330d-4dd5-b350-ac585dbf7f30 div.sk-parallel::before {content: \"\";position: absolute;border-left: 1px solid gray;box-sizing: border-box;top: 2em;bottom: 0;left: 50%;}#sk-8adee90e-330d-4dd5-b350-ac585dbf7f30 div.sk-parallel-item {display: flex;flex-direction: column;position: relative;background-color: white;}#sk-8adee90e-330d-4dd5-b350-ac585dbf7f30 div.sk-parallel-item:first-child::after {align-self: flex-end;width: 50%;}#sk-8adee90e-330d-4dd5-b350-ac585dbf7f30 div.sk-parallel-item:last-child::after {align-self: flex-start;width: 50%;}#sk-8adee90e-330d-4dd5-b350-ac585dbf7f30 div.sk-parallel-item:only-child::after {width: 0;}#sk-8adee90e-330d-4dd5-b350-ac585dbf7f30 div.sk-dashed-wrapped {border: 1px dashed gray;margin: 0 0.4em 0.5em 0.4em;box-sizing: border-box;padding-bottom: 0.4em;background-color: white;position: relative;}#sk-8adee90e-330d-4dd5-b350-ac585dbf7f30 div.sk-label label {font-family: monospace;font-weight: bold;background-color: white;display: inline-block;line-height: 1.2em;}#sk-8adee90e-330d-4dd5-b350-ac585dbf7f30 div.sk-label-container {position: relative;z-index: 2;text-align: center;}#sk-8adee90e-330d-4dd5-b350-ac585dbf7f30 div.sk-container {/* jupyter's `normalize.less` sets `[hidden] { display: none; }` but bootstrap.min.css set `[hidden] { display: none !important; }` so we also need the `!important` here to be able to override the default hidden behavior on the sphinx rendered scikit-learn.org. See: https://github.com/scikit-learn/scikit-learn/issues/21755 */display: inline-block !important;position: relative;}#sk-8adee90e-330d-4dd5-b350-ac585dbf7f30 div.sk-text-repr-fallback {display: none;}</style><div id=\"sk-8adee90e-330d-4dd5-b350-ac585dbf7f30\" class=\"sk-top-container\"><div class=\"sk-text-repr-fallback\"><pre>Pipeline(steps=[(&#x27;columntransformer&#x27;,\n",
       "                 ColumnTransformer(remainder=&#x27;passthrough&#x27;,\n",
       "                                   transformers=[(&#x27;onehotencoder&#x27;,\n",
       "                                                  OneHotEncoder(sparse=False),\n",
       "                                                  [2, 6, 10]),\n",
       "                                                 (&#x27;ordinalencoder&#x27;,\n",
       "                                                  OrdinalEncoder(), [1, 8]),\n",
       "                                                 (&#x27;standardscaler&#x27;,\n",
       "                                                  StandardScaler(),\n",
       "                                                  [0, 3, 4, 5, 7, 9])])),\n",
       "                (&#x27;logisticregression&#x27;, LogisticRegression(solver=&#x27;liblinear&#x27;))])</pre><b>Please rerun this cell to show the HTML repr or trust the notebook.</b></div><div class=\"sk-container\" hidden><div class=\"sk-item sk-dashed-wrapped\"><div class=\"sk-label-container\"><div class=\"sk-label sk-toggleable\"><input class=\"sk-toggleable__control sk-hidden--visually\" id=\"8c05cb46-52fc-4625-958b-db3a91e3933b\" type=\"checkbox\" ><label for=\"8c05cb46-52fc-4625-958b-db3a91e3933b\" class=\"sk-toggleable__label sk-toggleable__label-arrow\">Pipeline</label><div class=\"sk-toggleable__content\"><pre>Pipeline(steps=[(&#x27;columntransformer&#x27;,\n",
       "                 ColumnTransformer(remainder=&#x27;passthrough&#x27;,\n",
       "                                   transformers=[(&#x27;onehotencoder&#x27;,\n",
       "                                                  OneHotEncoder(sparse=False),\n",
       "                                                  [2, 6, 10]),\n",
       "                                                 (&#x27;ordinalencoder&#x27;,\n",
       "                                                  OrdinalEncoder(), [1, 8]),\n",
       "                                                 (&#x27;standardscaler&#x27;,\n",
       "                                                  StandardScaler(),\n",
       "                                                  [0, 3, 4, 5, 7, 9])])),\n",
       "                (&#x27;logisticregression&#x27;, LogisticRegression(solver=&#x27;liblinear&#x27;))])</pre></div></div></div><div class=\"sk-serial\"><div class=\"sk-item sk-dashed-wrapped\"><div class=\"sk-label-container\"><div class=\"sk-label sk-toggleable\"><input class=\"sk-toggleable__control sk-hidden--visually\" id=\"31756631-8008-4270-874d-bf60ee8054da\" type=\"checkbox\" ><label for=\"31756631-8008-4270-874d-bf60ee8054da\" class=\"sk-toggleable__label sk-toggleable__label-arrow\">columntransformer: ColumnTransformer</label><div class=\"sk-toggleable__content\"><pre>ColumnTransformer(remainder=&#x27;passthrough&#x27;,\n",
       "                  transformers=[(&#x27;onehotencoder&#x27;, OneHotEncoder(sparse=False),\n",
       "                                 [2, 6, 10]),\n",
       "                                (&#x27;ordinalencoder&#x27;, OrdinalEncoder(), [1, 8]),\n",
       "                                (&#x27;standardscaler&#x27;, StandardScaler(),\n",
       "                                 [0, 3, 4, 5, 7, 9])])</pre></div></div></div><div class=\"sk-parallel\"><div class=\"sk-parallel-item\"><div class=\"sk-item\"><div class=\"sk-label-container\"><div class=\"sk-label sk-toggleable\"><input class=\"sk-toggleable__control sk-hidden--visually\" id=\"059d702c-1b28-46c4-b01f-98d1bb35c9b1\" type=\"checkbox\" ><label for=\"059d702c-1b28-46c4-b01f-98d1bb35c9b1\" class=\"sk-toggleable__label sk-toggleable__label-arrow\">onehotencoder</label><div class=\"sk-toggleable__content\"><pre>[2, 6, 10]</pre></div></div></div><div class=\"sk-serial\"><div class=\"sk-item\"><div class=\"sk-estimator sk-toggleable\"><input class=\"sk-toggleable__control sk-hidden--visually\" id=\"8d6e94f0-a966-42ac-af85-ebd76091e5da\" type=\"checkbox\" ><label for=\"8d6e94f0-a966-42ac-af85-ebd76091e5da\" class=\"sk-toggleable__label sk-toggleable__label-arrow\">OneHotEncoder</label><div class=\"sk-toggleable__content\"><pre>OneHotEncoder(sparse=False)</pre></div></div></div></div></div></div><div class=\"sk-parallel-item\"><div class=\"sk-item\"><div class=\"sk-label-container\"><div class=\"sk-label sk-toggleable\"><input class=\"sk-toggleable__control sk-hidden--visually\" id=\"e4e47bde-84dc-49c2-9e62-0363730ff8ee\" type=\"checkbox\" ><label for=\"e4e47bde-84dc-49c2-9e62-0363730ff8ee\" class=\"sk-toggleable__label sk-toggleable__label-arrow\">ordinalencoder</label><div class=\"sk-toggleable__content\"><pre>[1, 8]</pre></div></div></div><div class=\"sk-serial\"><div class=\"sk-item\"><div class=\"sk-estimator sk-toggleable\"><input class=\"sk-toggleable__control sk-hidden--visually\" id=\"28c9ada0-79bc-4d40-b392-24312aaa10cb\" type=\"checkbox\" ><label for=\"28c9ada0-79bc-4d40-b392-24312aaa10cb\" class=\"sk-toggleable__label sk-toggleable__label-arrow\">OrdinalEncoder</label><div class=\"sk-toggleable__content\"><pre>OrdinalEncoder()</pre></div></div></div></div></div></div><div class=\"sk-parallel-item\"><div class=\"sk-item\"><div class=\"sk-label-container\"><div class=\"sk-label sk-toggleable\"><input class=\"sk-toggleable__control sk-hidden--visually\" id=\"62ed3f0d-d2aa-454b-83e7-e5d1a2bb0655\" type=\"checkbox\" ><label for=\"62ed3f0d-d2aa-454b-83e7-e5d1a2bb0655\" class=\"sk-toggleable__label sk-toggleable__label-arrow\">standardscaler</label><div class=\"sk-toggleable__content\"><pre>[0, 3, 4, 5, 7, 9]</pre></div></div></div><div class=\"sk-serial\"><div class=\"sk-item\"><div class=\"sk-estimator sk-toggleable\"><input class=\"sk-toggleable__control sk-hidden--visually\" id=\"af952958-15ff-473c-9511-17b7251c8943\" type=\"checkbox\" ><label for=\"af952958-15ff-473c-9511-17b7251c8943\" class=\"sk-toggleable__label sk-toggleable__label-arrow\">StandardScaler</label><div class=\"sk-toggleable__content\"><pre>StandardScaler()</pre></div></div></div></div></div></div><div class=\"sk-parallel-item\"><div class=\"sk-item\"><div class=\"sk-label-container\"><div class=\"sk-label sk-toggleable\"><input class=\"sk-toggleable__control sk-hidden--visually\" id=\"4543895f-ff1e-467a-b78b-66725ea42f69\" type=\"checkbox\" ><label for=\"4543895f-ff1e-467a-b78b-66725ea42f69\" class=\"sk-toggleable__label sk-toggleable__label-arrow\">remainder</label><div class=\"sk-toggleable__content\"><pre>[11, 12, 13, 14, 15, 16, 17, 18, 19, 20]</pre></div></div></div><div class=\"sk-serial\"><div class=\"sk-item\"><div class=\"sk-estimator sk-toggleable\"><input class=\"sk-toggleable__control sk-hidden--visually\" id=\"6098f90d-7fae-4114-9ca0-6c8fbf2f4165\" type=\"checkbox\" ><label for=\"6098f90d-7fae-4114-9ca0-6c8fbf2f4165\" class=\"sk-toggleable__label sk-toggleable__label-arrow\">passthrough</label><div class=\"sk-toggleable__content\"><pre>passthrough</pre></div></div></div></div></div></div></div></div><div class=\"sk-item\"><div class=\"sk-estimator sk-toggleable\"><input class=\"sk-toggleable__control sk-hidden--visually\" id=\"e1e076fc-e8c1-4a25-a4ae-edc48ad43458\" type=\"checkbox\" ><label for=\"e1e076fc-e8c1-4a25-a4ae-edc48ad43458\" class=\"sk-toggleable__label sk-toggleable__label-arrow\">LogisticRegression</label><div class=\"sk-toggleable__content\"><pre>LogisticRegression(solver=&#x27;liblinear&#x27;)</pre></div></div></div></div></div></div></div>"
      ],
      "text/plain": [
       "Pipeline(steps=[('columntransformer',\n",
       "                 ColumnTransformer(remainder='passthrough',\n",
       "                                   transformers=[('onehotencoder',\n",
       "                                                  OneHotEncoder(sparse=False),\n",
       "                                                  [2, 6, 10]),\n",
       "                                                 ('ordinalencoder',\n",
       "                                                  OrdinalEncoder(), [1, 8]),\n",
       "                                                 ('standardscaler',\n",
       "                                                  StandardScaler(),\n",
       "                                                  [0, 3, 4, 5, 7, 9])])),\n",
       "                ('logisticregression', LogisticRegression(solver='liblinear'))])"
      ]
     },
     "execution_count": 23,
     "metadata": {},
     "output_type": "execute_result"
    }
   ],
   "source": [
    "from sklearn.linear_model import LogisticRegression\n",
    "model = LogisticRegression(solver=\"liblinear\")\n",
    "pipe2=make_pipeline(trans,model)\n",
    "pipe2"
   ]
  },
  {
   "cell_type": "code",
   "execution_count": 24,
   "metadata": {},
   "outputs": [
    {
     "data": {
      "text/html": [
       "<style>#sk-0447fb3e-e177-485f-9446-195b3acac4cd {color: black;background-color: white;}#sk-0447fb3e-e177-485f-9446-195b3acac4cd pre{padding: 0;}#sk-0447fb3e-e177-485f-9446-195b3acac4cd div.sk-toggleable {background-color: white;}#sk-0447fb3e-e177-485f-9446-195b3acac4cd label.sk-toggleable__label {cursor: pointer;display: block;width: 100%;margin-bottom: 0;padding: 0.3em;box-sizing: border-box;text-align: center;}#sk-0447fb3e-e177-485f-9446-195b3acac4cd label.sk-toggleable__label-arrow:before {content: \"▸\";float: left;margin-right: 0.25em;color: #696969;}#sk-0447fb3e-e177-485f-9446-195b3acac4cd label.sk-toggleable__label-arrow:hover:before {color: black;}#sk-0447fb3e-e177-485f-9446-195b3acac4cd div.sk-estimator:hover label.sk-toggleable__label-arrow:before {color: black;}#sk-0447fb3e-e177-485f-9446-195b3acac4cd div.sk-toggleable__content {max-height: 0;max-width: 0;overflow: hidden;text-align: left;background-color: #f0f8ff;}#sk-0447fb3e-e177-485f-9446-195b3acac4cd div.sk-toggleable__content pre {margin: 0.2em;color: black;border-radius: 0.25em;background-color: #f0f8ff;}#sk-0447fb3e-e177-485f-9446-195b3acac4cd input.sk-toggleable__control:checked~div.sk-toggleable__content {max-height: 200px;max-width: 100%;overflow: auto;}#sk-0447fb3e-e177-485f-9446-195b3acac4cd input.sk-toggleable__control:checked~label.sk-toggleable__label-arrow:before {content: \"▾\";}#sk-0447fb3e-e177-485f-9446-195b3acac4cd div.sk-estimator input.sk-toggleable__control:checked~label.sk-toggleable__label {background-color: #d4ebff;}#sk-0447fb3e-e177-485f-9446-195b3acac4cd div.sk-label input.sk-toggleable__control:checked~label.sk-toggleable__label {background-color: #d4ebff;}#sk-0447fb3e-e177-485f-9446-195b3acac4cd input.sk-hidden--visually {border: 0;clip: rect(1px 1px 1px 1px);clip: rect(1px, 1px, 1px, 1px);height: 1px;margin: -1px;overflow: hidden;padding: 0;position: absolute;width: 1px;}#sk-0447fb3e-e177-485f-9446-195b3acac4cd div.sk-estimator {font-family: monospace;background-color: #f0f8ff;border: 1px dotted black;border-radius: 0.25em;box-sizing: border-box;margin-bottom: 0.5em;}#sk-0447fb3e-e177-485f-9446-195b3acac4cd div.sk-estimator:hover {background-color: #d4ebff;}#sk-0447fb3e-e177-485f-9446-195b3acac4cd div.sk-parallel-item::after {content: \"\";width: 100%;border-bottom: 1px solid gray;flex-grow: 1;}#sk-0447fb3e-e177-485f-9446-195b3acac4cd div.sk-label:hover label.sk-toggleable__label {background-color: #d4ebff;}#sk-0447fb3e-e177-485f-9446-195b3acac4cd div.sk-serial::before {content: \"\";position: absolute;border-left: 1px solid gray;box-sizing: border-box;top: 2em;bottom: 0;left: 50%;}#sk-0447fb3e-e177-485f-9446-195b3acac4cd div.sk-serial {display: flex;flex-direction: column;align-items: center;background-color: white;padding-right: 0.2em;padding-left: 0.2em;}#sk-0447fb3e-e177-485f-9446-195b3acac4cd div.sk-item {z-index: 1;}#sk-0447fb3e-e177-485f-9446-195b3acac4cd div.sk-parallel {display: flex;align-items: stretch;justify-content: center;background-color: white;}#sk-0447fb3e-e177-485f-9446-195b3acac4cd div.sk-parallel::before {content: \"\";position: absolute;border-left: 1px solid gray;box-sizing: border-box;top: 2em;bottom: 0;left: 50%;}#sk-0447fb3e-e177-485f-9446-195b3acac4cd div.sk-parallel-item {display: flex;flex-direction: column;position: relative;background-color: white;}#sk-0447fb3e-e177-485f-9446-195b3acac4cd div.sk-parallel-item:first-child::after {align-self: flex-end;width: 50%;}#sk-0447fb3e-e177-485f-9446-195b3acac4cd div.sk-parallel-item:last-child::after {align-self: flex-start;width: 50%;}#sk-0447fb3e-e177-485f-9446-195b3acac4cd div.sk-parallel-item:only-child::after {width: 0;}#sk-0447fb3e-e177-485f-9446-195b3acac4cd div.sk-dashed-wrapped {border: 1px dashed gray;margin: 0 0.4em 0.5em 0.4em;box-sizing: border-box;padding-bottom: 0.4em;background-color: white;position: relative;}#sk-0447fb3e-e177-485f-9446-195b3acac4cd div.sk-label label {font-family: monospace;font-weight: bold;background-color: white;display: inline-block;line-height: 1.2em;}#sk-0447fb3e-e177-485f-9446-195b3acac4cd div.sk-label-container {position: relative;z-index: 2;text-align: center;}#sk-0447fb3e-e177-485f-9446-195b3acac4cd div.sk-container {/* jupyter's `normalize.less` sets `[hidden] { display: none; }` but bootstrap.min.css set `[hidden] { display: none !important; }` so we also need the `!important` here to be able to override the default hidden behavior on the sphinx rendered scikit-learn.org. See: https://github.com/scikit-learn/scikit-learn/issues/21755 */display: inline-block !important;position: relative;}#sk-0447fb3e-e177-485f-9446-195b3acac4cd div.sk-text-repr-fallback {display: none;}</style><div id=\"sk-0447fb3e-e177-485f-9446-195b3acac4cd\" class=\"sk-top-container\"><div class=\"sk-text-repr-fallback\"><pre>Pipeline(steps=[(&#x27;columntransformer&#x27;,\n",
       "                 ColumnTransformer(remainder=&#x27;passthrough&#x27;,\n",
       "                                   transformers=[(&#x27;onehotencoder&#x27;,\n",
       "                                                  OneHotEncoder(sparse=False),\n",
       "                                                  [2, 6, 10]),\n",
       "                                                 (&#x27;ordinalencoder&#x27;,\n",
       "                                                  OrdinalEncoder(), [1, 8]),\n",
       "                                                 (&#x27;standardscaler&#x27;,\n",
       "                                                  StandardScaler(),\n",
       "                                                  [0, 3, 4, 5, 7, 9])])),\n",
       "                (&#x27;logisticregression&#x27;, LogisticRegression(solver=&#x27;liblinear&#x27;))])</pre><b>Please rerun this cell to show the HTML repr or trust the notebook.</b></div><div class=\"sk-container\" hidden><div class=\"sk-item sk-dashed-wrapped\"><div class=\"sk-label-container\"><div class=\"sk-label sk-toggleable\"><input class=\"sk-toggleable__control sk-hidden--visually\" id=\"b9e8119c-0a82-40ef-a491-2ef83599a1e4\" type=\"checkbox\" ><label for=\"b9e8119c-0a82-40ef-a491-2ef83599a1e4\" class=\"sk-toggleable__label sk-toggleable__label-arrow\">Pipeline</label><div class=\"sk-toggleable__content\"><pre>Pipeline(steps=[(&#x27;columntransformer&#x27;,\n",
       "                 ColumnTransformer(remainder=&#x27;passthrough&#x27;,\n",
       "                                   transformers=[(&#x27;onehotencoder&#x27;,\n",
       "                                                  OneHotEncoder(sparse=False),\n",
       "                                                  [2, 6, 10]),\n",
       "                                                 (&#x27;ordinalencoder&#x27;,\n",
       "                                                  OrdinalEncoder(), [1, 8]),\n",
       "                                                 (&#x27;standardscaler&#x27;,\n",
       "                                                  StandardScaler(),\n",
       "                                                  [0, 3, 4, 5, 7, 9])])),\n",
       "                (&#x27;logisticregression&#x27;, LogisticRegression(solver=&#x27;liblinear&#x27;))])</pre></div></div></div><div class=\"sk-serial\"><div class=\"sk-item sk-dashed-wrapped\"><div class=\"sk-label-container\"><div class=\"sk-label sk-toggleable\"><input class=\"sk-toggleable__control sk-hidden--visually\" id=\"d7fe1ba2-6e67-4275-b596-12112d2b7415\" type=\"checkbox\" ><label for=\"d7fe1ba2-6e67-4275-b596-12112d2b7415\" class=\"sk-toggleable__label sk-toggleable__label-arrow\">columntransformer: ColumnTransformer</label><div class=\"sk-toggleable__content\"><pre>ColumnTransformer(remainder=&#x27;passthrough&#x27;,\n",
       "                  transformers=[(&#x27;onehotencoder&#x27;, OneHotEncoder(sparse=False),\n",
       "                                 [2, 6, 10]),\n",
       "                                (&#x27;ordinalencoder&#x27;, OrdinalEncoder(), [1, 8]),\n",
       "                                (&#x27;standardscaler&#x27;, StandardScaler(),\n",
       "                                 [0, 3, 4, 5, 7, 9])])</pre></div></div></div><div class=\"sk-parallel\"><div class=\"sk-parallel-item\"><div class=\"sk-item\"><div class=\"sk-label-container\"><div class=\"sk-label sk-toggleable\"><input class=\"sk-toggleable__control sk-hidden--visually\" id=\"273d5c34-35c7-4c5d-984f-02eb8a04556f\" type=\"checkbox\" ><label for=\"273d5c34-35c7-4c5d-984f-02eb8a04556f\" class=\"sk-toggleable__label sk-toggleable__label-arrow\">onehotencoder</label><div class=\"sk-toggleable__content\"><pre>[2, 6, 10]</pre></div></div></div><div class=\"sk-serial\"><div class=\"sk-item\"><div class=\"sk-estimator sk-toggleable\"><input class=\"sk-toggleable__control sk-hidden--visually\" id=\"8f78e07e-045c-4f02-ad9d-5a78593f17ed\" type=\"checkbox\" ><label for=\"8f78e07e-045c-4f02-ad9d-5a78593f17ed\" class=\"sk-toggleable__label sk-toggleable__label-arrow\">OneHotEncoder</label><div class=\"sk-toggleable__content\"><pre>OneHotEncoder(sparse=False)</pre></div></div></div></div></div></div><div class=\"sk-parallel-item\"><div class=\"sk-item\"><div class=\"sk-label-container\"><div class=\"sk-label sk-toggleable\"><input class=\"sk-toggleable__control sk-hidden--visually\" id=\"26235603-247f-4b5e-a2f0-dc56121ff97c\" type=\"checkbox\" ><label for=\"26235603-247f-4b5e-a2f0-dc56121ff97c\" class=\"sk-toggleable__label sk-toggleable__label-arrow\">ordinalencoder</label><div class=\"sk-toggleable__content\"><pre>[1, 8]</pre></div></div></div><div class=\"sk-serial\"><div class=\"sk-item\"><div class=\"sk-estimator sk-toggleable\"><input class=\"sk-toggleable__control sk-hidden--visually\" id=\"e07daa25-0a30-4381-882b-183b7cc21698\" type=\"checkbox\" ><label for=\"e07daa25-0a30-4381-882b-183b7cc21698\" class=\"sk-toggleable__label sk-toggleable__label-arrow\">OrdinalEncoder</label><div class=\"sk-toggleable__content\"><pre>OrdinalEncoder()</pre></div></div></div></div></div></div><div class=\"sk-parallel-item\"><div class=\"sk-item\"><div class=\"sk-label-container\"><div class=\"sk-label sk-toggleable\"><input class=\"sk-toggleable__control sk-hidden--visually\" id=\"056813d6-f265-4902-bd25-c502d56bbd44\" type=\"checkbox\" ><label for=\"056813d6-f265-4902-bd25-c502d56bbd44\" class=\"sk-toggleable__label sk-toggleable__label-arrow\">standardscaler</label><div class=\"sk-toggleable__content\"><pre>[0, 3, 4, 5, 7, 9]</pre></div></div></div><div class=\"sk-serial\"><div class=\"sk-item\"><div class=\"sk-estimator sk-toggleable\"><input class=\"sk-toggleable__control sk-hidden--visually\" id=\"62ffb59f-bac1-454e-a8dd-b2a119114c03\" type=\"checkbox\" ><label for=\"62ffb59f-bac1-454e-a8dd-b2a119114c03\" class=\"sk-toggleable__label sk-toggleable__label-arrow\">StandardScaler</label><div class=\"sk-toggleable__content\"><pre>StandardScaler()</pre></div></div></div></div></div></div><div class=\"sk-parallel-item\"><div class=\"sk-item\"><div class=\"sk-label-container\"><div class=\"sk-label sk-toggleable\"><input class=\"sk-toggleable__control sk-hidden--visually\" id=\"8810e034-97f8-4676-90a1-960e1dd307e1\" type=\"checkbox\" ><label for=\"8810e034-97f8-4676-90a1-960e1dd307e1\" class=\"sk-toggleable__label sk-toggleable__label-arrow\">remainder</label><div class=\"sk-toggleable__content\"><pre>[11, 12, 13, 14, 15, 16, 17, 18, 19, 20]</pre></div></div></div><div class=\"sk-serial\"><div class=\"sk-item\"><div class=\"sk-estimator sk-toggleable\"><input class=\"sk-toggleable__control sk-hidden--visually\" id=\"b547071b-e621-42e4-aaba-65ae25e598f4\" type=\"checkbox\" ><label for=\"b547071b-e621-42e4-aaba-65ae25e598f4\" class=\"sk-toggleable__label sk-toggleable__label-arrow\">passthrough</label><div class=\"sk-toggleable__content\"><pre>passthrough</pre></div></div></div></div></div></div></div></div><div class=\"sk-item\"><div class=\"sk-estimator sk-toggleable\"><input class=\"sk-toggleable__control sk-hidden--visually\" id=\"1e52f88f-abfb-4de9-bafa-d27af8b93229\" type=\"checkbox\" ><label for=\"1e52f88f-abfb-4de9-bafa-d27af8b93229\" class=\"sk-toggleable__label sk-toggleable__label-arrow\">LogisticRegression</label><div class=\"sk-toggleable__content\"><pre>LogisticRegression(solver=&#x27;liblinear&#x27;)</pre></div></div></div></div></div></div></div>"
      ],
      "text/plain": [
       "Pipeline(steps=[('columntransformer',\n",
       "                 ColumnTransformer(remainder='passthrough',\n",
       "                                   transformers=[('onehotencoder',\n",
       "                                                  OneHotEncoder(sparse=False),\n",
       "                                                  [2, 6, 10]),\n",
       "                                                 ('ordinalencoder',\n",
       "                                                  OrdinalEncoder(), [1, 8]),\n",
       "                                                 ('standardscaler',\n",
       "                                                  StandardScaler(),\n",
       "                                                  [0, 3, 4, 5, 7, 9])])),\n",
       "                ('logisticregression', LogisticRegression(solver='liblinear'))])"
      ]
     },
     "execution_count": 24,
     "metadata": {},
     "output_type": "execute_result"
    }
   ],
   "source": [
    "pipe2.fit(x_train,y_train)"
   ]
  },
  {
   "cell_type": "code",
   "execution_count": 25,
   "metadata": {},
   "outputs": [],
   "source": [
    "pred2=pipe2.predict(x_test[:1111])"
   ]
  },
  {
   "cell_type": "code",
   "execution_count": 27,
   "metadata": {},
   "outputs": [
    {
     "data": {
      "text/plain": [
       "0.9063906390639064"
      ]
     },
     "execution_count": 27,
     "metadata": {},
     "output_type": "execute_result"
    }
   ],
   "source": [
    "accuracy_score(pred2,y_test[:1111])"
   ]
  },
  {
   "cell_type": "code",
   "execution_count": 28,
   "metadata": {},
   "outputs": [
    {
     "data": {
      "text/html": [
       "<style>#sk-28caf331-6367-4100-aa43-547806549760 {color: black;background-color: white;}#sk-28caf331-6367-4100-aa43-547806549760 pre{padding: 0;}#sk-28caf331-6367-4100-aa43-547806549760 div.sk-toggleable {background-color: white;}#sk-28caf331-6367-4100-aa43-547806549760 label.sk-toggleable__label {cursor: pointer;display: block;width: 100%;margin-bottom: 0;padding: 0.3em;box-sizing: border-box;text-align: center;}#sk-28caf331-6367-4100-aa43-547806549760 label.sk-toggleable__label-arrow:before {content: \"▸\";float: left;margin-right: 0.25em;color: #696969;}#sk-28caf331-6367-4100-aa43-547806549760 label.sk-toggleable__label-arrow:hover:before {color: black;}#sk-28caf331-6367-4100-aa43-547806549760 div.sk-estimator:hover label.sk-toggleable__label-arrow:before {color: black;}#sk-28caf331-6367-4100-aa43-547806549760 div.sk-toggleable__content {max-height: 0;max-width: 0;overflow: hidden;text-align: left;background-color: #f0f8ff;}#sk-28caf331-6367-4100-aa43-547806549760 div.sk-toggleable__content pre {margin: 0.2em;color: black;border-radius: 0.25em;background-color: #f0f8ff;}#sk-28caf331-6367-4100-aa43-547806549760 input.sk-toggleable__control:checked~div.sk-toggleable__content {max-height: 200px;max-width: 100%;overflow: auto;}#sk-28caf331-6367-4100-aa43-547806549760 input.sk-toggleable__control:checked~label.sk-toggleable__label-arrow:before {content: \"▾\";}#sk-28caf331-6367-4100-aa43-547806549760 div.sk-estimator input.sk-toggleable__control:checked~label.sk-toggleable__label {background-color: #d4ebff;}#sk-28caf331-6367-4100-aa43-547806549760 div.sk-label input.sk-toggleable__control:checked~label.sk-toggleable__label {background-color: #d4ebff;}#sk-28caf331-6367-4100-aa43-547806549760 input.sk-hidden--visually {border: 0;clip: rect(1px 1px 1px 1px);clip: rect(1px, 1px, 1px, 1px);height: 1px;margin: -1px;overflow: hidden;padding: 0;position: absolute;width: 1px;}#sk-28caf331-6367-4100-aa43-547806549760 div.sk-estimator {font-family: monospace;background-color: #f0f8ff;border: 1px dotted black;border-radius: 0.25em;box-sizing: border-box;margin-bottom: 0.5em;}#sk-28caf331-6367-4100-aa43-547806549760 div.sk-estimator:hover {background-color: #d4ebff;}#sk-28caf331-6367-4100-aa43-547806549760 div.sk-parallel-item::after {content: \"\";width: 100%;border-bottom: 1px solid gray;flex-grow: 1;}#sk-28caf331-6367-4100-aa43-547806549760 div.sk-label:hover label.sk-toggleable__label {background-color: #d4ebff;}#sk-28caf331-6367-4100-aa43-547806549760 div.sk-serial::before {content: \"\";position: absolute;border-left: 1px solid gray;box-sizing: border-box;top: 2em;bottom: 0;left: 50%;}#sk-28caf331-6367-4100-aa43-547806549760 div.sk-serial {display: flex;flex-direction: column;align-items: center;background-color: white;padding-right: 0.2em;padding-left: 0.2em;}#sk-28caf331-6367-4100-aa43-547806549760 div.sk-item {z-index: 1;}#sk-28caf331-6367-4100-aa43-547806549760 div.sk-parallel {display: flex;align-items: stretch;justify-content: center;background-color: white;}#sk-28caf331-6367-4100-aa43-547806549760 div.sk-parallel::before {content: \"\";position: absolute;border-left: 1px solid gray;box-sizing: border-box;top: 2em;bottom: 0;left: 50%;}#sk-28caf331-6367-4100-aa43-547806549760 div.sk-parallel-item {display: flex;flex-direction: column;position: relative;background-color: white;}#sk-28caf331-6367-4100-aa43-547806549760 div.sk-parallel-item:first-child::after {align-self: flex-end;width: 50%;}#sk-28caf331-6367-4100-aa43-547806549760 div.sk-parallel-item:last-child::after {align-self: flex-start;width: 50%;}#sk-28caf331-6367-4100-aa43-547806549760 div.sk-parallel-item:only-child::after {width: 0;}#sk-28caf331-6367-4100-aa43-547806549760 div.sk-dashed-wrapped {border: 1px dashed gray;margin: 0 0.4em 0.5em 0.4em;box-sizing: border-box;padding-bottom: 0.4em;background-color: white;position: relative;}#sk-28caf331-6367-4100-aa43-547806549760 div.sk-label label {font-family: monospace;font-weight: bold;background-color: white;display: inline-block;line-height: 1.2em;}#sk-28caf331-6367-4100-aa43-547806549760 div.sk-label-container {position: relative;z-index: 2;text-align: center;}#sk-28caf331-6367-4100-aa43-547806549760 div.sk-container {/* jupyter's `normalize.less` sets `[hidden] { display: none; }` but bootstrap.min.css set `[hidden] { display: none !important; }` so we also need the `!important` here to be able to override the default hidden behavior on the sphinx rendered scikit-learn.org. See: https://github.com/scikit-learn/scikit-learn/issues/21755 */display: inline-block !important;position: relative;}#sk-28caf331-6367-4100-aa43-547806549760 div.sk-text-repr-fallback {display: none;}</style><div id=\"sk-28caf331-6367-4100-aa43-547806549760\" class=\"sk-top-container\"><div class=\"sk-text-repr-fallback\"><pre>Pipeline(steps=[(&#x27;columntransformer&#x27;,\n",
       "                 ColumnTransformer(remainder=&#x27;passthrough&#x27;,\n",
       "                                   transformers=[(&#x27;onehotencoder&#x27;,\n",
       "                                                  OneHotEncoder(sparse=False),\n",
       "                                                  [2, 6, 10]),\n",
       "                                                 (&#x27;ordinalencoder&#x27;,\n",
       "                                                  OrdinalEncoder(), [1, 8]),\n",
       "                                                 (&#x27;standardscaler&#x27;,\n",
       "                                                  StandardScaler(),\n",
       "                                                  [0, 3, 4, 5, 7, 9])])),\n",
       "                (&#x27;svc&#x27;, SVC())])</pre><b>Please rerun this cell to show the HTML repr or trust the notebook.</b></div><div class=\"sk-container\" hidden><div class=\"sk-item sk-dashed-wrapped\"><div class=\"sk-label-container\"><div class=\"sk-label sk-toggleable\"><input class=\"sk-toggleable__control sk-hidden--visually\" id=\"5c857136-5864-420c-ae83-f3239f392b46\" type=\"checkbox\" ><label for=\"5c857136-5864-420c-ae83-f3239f392b46\" class=\"sk-toggleable__label sk-toggleable__label-arrow\">Pipeline</label><div class=\"sk-toggleable__content\"><pre>Pipeline(steps=[(&#x27;columntransformer&#x27;,\n",
       "                 ColumnTransformer(remainder=&#x27;passthrough&#x27;,\n",
       "                                   transformers=[(&#x27;onehotencoder&#x27;,\n",
       "                                                  OneHotEncoder(sparse=False),\n",
       "                                                  [2, 6, 10]),\n",
       "                                                 (&#x27;ordinalencoder&#x27;,\n",
       "                                                  OrdinalEncoder(), [1, 8]),\n",
       "                                                 (&#x27;standardscaler&#x27;,\n",
       "                                                  StandardScaler(),\n",
       "                                                  [0, 3, 4, 5, 7, 9])])),\n",
       "                (&#x27;svc&#x27;, SVC())])</pre></div></div></div><div class=\"sk-serial\"><div class=\"sk-item sk-dashed-wrapped\"><div class=\"sk-label-container\"><div class=\"sk-label sk-toggleable\"><input class=\"sk-toggleable__control sk-hidden--visually\" id=\"de453d51-b708-4473-943a-3e79c98fc9f6\" type=\"checkbox\" ><label for=\"de453d51-b708-4473-943a-3e79c98fc9f6\" class=\"sk-toggleable__label sk-toggleable__label-arrow\">columntransformer: ColumnTransformer</label><div class=\"sk-toggleable__content\"><pre>ColumnTransformer(remainder=&#x27;passthrough&#x27;,\n",
       "                  transformers=[(&#x27;onehotencoder&#x27;, OneHotEncoder(sparse=False),\n",
       "                                 [2, 6, 10]),\n",
       "                                (&#x27;ordinalencoder&#x27;, OrdinalEncoder(), [1, 8]),\n",
       "                                (&#x27;standardscaler&#x27;, StandardScaler(),\n",
       "                                 [0, 3, 4, 5, 7, 9])])</pre></div></div></div><div class=\"sk-parallel\"><div class=\"sk-parallel-item\"><div class=\"sk-item\"><div class=\"sk-label-container\"><div class=\"sk-label sk-toggleable\"><input class=\"sk-toggleable__control sk-hidden--visually\" id=\"a8965d15-fd92-4ee8-b4a1-4fe347da0f3f\" type=\"checkbox\" ><label for=\"a8965d15-fd92-4ee8-b4a1-4fe347da0f3f\" class=\"sk-toggleable__label sk-toggleable__label-arrow\">onehotencoder</label><div class=\"sk-toggleable__content\"><pre>[2, 6, 10]</pre></div></div></div><div class=\"sk-serial\"><div class=\"sk-item\"><div class=\"sk-estimator sk-toggleable\"><input class=\"sk-toggleable__control sk-hidden--visually\" id=\"d2b55fd3-bccd-4034-8783-0779f1823a6e\" type=\"checkbox\" ><label for=\"d2b55fd3-bccd-4034-8783-0779f1823a6e\" class=\"sk-toggleable__label sk-toggleable__label-arrow\">OneHotEncoder</label><div class=\"sk-toggleable__content\"><pre>OneHotEncoder(sparse=False)</pre></div></div></div></div></div></div><div class=\"sk-parallel-item\"><div class=\"sk-item\"><div class=\"sk-label-container\"><div class=\"sk-label sk-toggleable\"><input class=\"sk-toggleable__control sk-hidden--visually\" id=\"90ccfbf7-ac34-4a08-9989-ec07bbd8c304\" type=\"checkbox\" ><label for=\"90ccfbf7-ac34-4a08-9989-ec07bbd8c304\" class=\"sk-toggleable__label sk-toggleable__label-arrow\">ordinalencoder</label><div class=\"sk-toggleable__content\"><pre>[1, 8]</pre></div></div></div><div class=\"sk-serial\"><div class=\"sk-item\"><div class=\"sk-estimator sk-toggleable\"><input class=\"sk-toggleable__control sk-hidden--visually\" id=\"af0ab320-3e48-4e00-b49a-d1f03e437251\" type=\"checkbox\" ><label for=\"af0ab320-3e48-4e00-b49a-d1f03e437251\" class=\"sk-toggleable__label sk-toggleable__label-arrow\">OrdinalEncoder</label><div class=\"sk-toggleable__content\"><pre>OrdinalEncoder()</pre></div></div></div></div></div></div><div class=\"sk-parallel-item\"><div class=\"sk-item\"><div class=\"sk-label-container\"><div class=\"sk-label sk-toggleable\"><input class=\"sk-toggleable__control sk-hidden--visually\" id=\"a340e4d3-366e-4c31-9fc4-1794048645b3\" type=\"checkbox\" ><label for=\"a340e4d3-366e-4c31-9fc4-1794048645b3\" class=\"sk-toggleable__label sk-toggleable__label-arrow\">standardscaler</label><div class=\"sk-toggleable__content\"><pre>[0, 3, 4, 5, 7, 9]</pre></div></div></div><div class=\"sk-serial\"><div class=\"sk-item\"><div class=\"sk-estimator sk-toggleable\"><input class=\"sk-toggleable__control sk-hidden--visually\" id=\"adb621ed-1dbd-43fa-9eff-44aab1e2309c\" type=\"checkbox\" ><label for=\"adb621ed-1dbd-43fa-9eff-44aab1e2309c\" class=\"sk-toggleable__label sk-toggleable__label-arrow\">StandardScaler</label><div class=\"sk-toggleable__content\"><pre>StandardScaler()</pre></div></div></div></div></div></div><div class=\"sk-parallel-item\"><div class=\"sk-item\"><div class=\"sk-label-container\"><div class=\"sk-label sk-toggleable\"><input class=\"sk-toggleable__control sk-hidden--visually\" id=\"ca944ed7-8314-4d90-9f3a-166c2bb365c3\" type=\"checkbox\" ><label for=\"ca944ed7-8314-4d90-9f3a-166c2bb365c3\" class=\"sk-toggleable__label sk-toggleable__label-arrow\">remainder</label><div class=\"sk-toggleable__content\"><pre>[11, 12, 13, 14, 15, 16, 17, 18, 19, 20]</pre></div></div></div><div class=\"sk-serial\"><div class=\"sk-item\"><div class=\"sk-estimator sk-toggleable\"><input class=\"sk-toggleable__control sk-hidden--visually\" id=\"e14904ca-8682-485a-add9-511a62c19023\" type=\"checkbox\" ><label for=\"e14904ca-8682-485a-add9-511a62c19023\" class=\"sk-toggleable__label sk-toggleable__label-arrow\">passthrough</label><div class=\"sk-toggleable__content\"><pre>passthrough</pre></div></div></div></div></div></div></div></div><div class=\"sk-item\"><div class=\"sk-estimator sk-toggleable\"><input class=\"sk-toggleable__control sk-hidden--visually\" id=\"a8f2c946-4fea-4179-815a-a22262db2f5e\" type=\"checkbox\" ><label for=\"a8f2c946-4fea-4179-815a-a22262db2f5e\" class=\"sk-toggleable__label sk-toggleable__label-arrow\">SVC</label><div class=\"sk-toggleable__content\"><pre>SVC()</pre></div></div></div></div></div></div></div>"
      ],
      "text/plain": [
       "Pipeline(steps=[('columntransformer',\n",
       "                 ColumnTransformer(remainder='passthrough',\n",
       "                                   transformers=[('onehotencoder',\n",
       "                                                  OneHotEncoder(sparse=False),\n",
       "                                                  [2, 6, 10]),\n",
       "                                                 ('ordinalencoder',\n",
       "                                                  OrdinalEncoder(), [1, 8]),\n",
       "                                                 ('standardscaler',\n",
       "                                                  StandardScaler(),\n",
       "                                                  [0, 3, 4, 5, 7, 9])])),\n",
       "                ('svc', SVC())])"
      ]
     },
     "execution_count": 28,
     "metadata": {},
     "output_type": "execute_result"
    }
   ],
   "source": [
    "from sklearn.svm import SVC\n",
    "alg=SVC()\n",
    "pipe3=make_pipeline(trans,alg)\n",
    "pipe3"
   ]
  },
  {
   "cell_type": "code",
   "execution_count": 29,
   "metadata": {},
   "outputs": [],
   "source": [
    "pipe3.fit(x_train,y_train)"
   ]
  },
  {
   "cell_type": "code",
   "execution_count": 1,
   "metadata": {},
   "outputs": [
    {
     "ename": "NameError",
     "evalue": "name 'y' is not defined",
     "output_type": "error",
     "traceback": [
      "\u001b[0;31m---------------------------------------------------------------------------\u001b[0m",
      "\u001b[0;31mNameError\u001b[0m                                 Traceback (most recent call last)",
      "\u001b[1;32m/home/aswin/Documents/nubri/_notebooks/2022-03-29-heart_disease.ipynb Cell 18'\u001b[0m in \u001b[0;36m<module>\u001b[0;34m\u001b[0m\n\u001b[1;32m      <a href='vscode-notebook-cell:/home/aswin/Documents/nubri/_notebooks/2022-03-29-heart_disease.ipynb#ch0000017?line=0'>1</a>\u001b[0m \u001b[39mimport\u001b[39;00m \u001b[39mseaborn\u001b[39;00m \u001b[39mas\u001b[39;00m \u001b[39msns\u001b[39;00m\n\u001b[0;32m----> <a href='vscode-notebook-cell:/home/aswin/Documents/nubri/_notebooks/2022-03-29-heart_disease.ipynb#ch0000017?line=1'>2</a>\u001b[0m sns\u001b[39m.\u001b[39mcountplot(y)\n",
      "\u001b[0;31mNameError\u001b[0m: name 'y' is not defined"
     ]
    }
   ],
   "source": [
    "import seaborn as sns\n",
    "sns.countplot(y)"
   ]
  },
  {
   "cell_type": "code",
   "execution_count": null,
   "metadata": {},
   "outputs": [],
   "source": []
  }
 ],
 "metadata": {
  "interpreter": {
   "hash": "062bb9b1ec01e9916229ee1a912381cbb5ea025b7159b710942000cb49f72727"
  },
  "kernelspec": {
   "display_name": "Python 3.8.5 ('jina')",
   "language": "python",
   "name": "python3"
  },
  "language_info": {
   "codemirror_mode": {
    "name": "ipython",
    "version": 3
   },
   "file_extension": ".py",
   "mimetype": "text/x-python",
   "name": "python",
   "nbconvert_exporter": "python",
   "pygments_lexer": "ipython3",
   "version": "3.8.5"
  },
  "orig_nbformat": 4
 },
 "nbformat": 4,
 "nbformat_minor": 2
}
